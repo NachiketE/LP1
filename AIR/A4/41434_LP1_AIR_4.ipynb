{
  "nbformat": 4,
  "nbformat_minor": 0,
  "metadata": {
    "colab": {
      "name": "41434_LP1_AIR-4.ipynb",
      "provenance": []
    },
    "kernelspec": {
      "name": "python3",
      "display_name": "Python 3"
    }
  },
  "cells": [
    {
      "cell_type": "code",
      "metadata": {
        "id": "EPIwWeJTUvuc"
      },
      "source": [
        "class N_Queens:\n",
        "\n",
        "  '''\n",
        "  PERCEPTION\n",
        "\n",
        "  n = number of queens\n",
        "\n",
        "  queens = Array of size n\n",
        "      ith Indexed  Queen is the Queen in the ith Column\n",
        "      It stores the row value of the queen if she is placed, -1 otherwise\n",
        "  \n",
        "  rowLookUp = Boolean Array of size n\n",
        "    Check if a threat exists in a particular row\n",
        "  \n",
        "  diagonalNormalLookUp = Boolean Array of size 2*n-1\n",
        "    Check if a threat exists in a normal diagonal\n",
        "  \n",
        "  diagonalBackwardLookUp = Boolean Array of size 2*n-1\n",
        "    Check if a threat exists in a backward diagonal\n",
        "\n",
        "  '''\n",
        "  #Parameterized Constructor\n",
        "  def __init__(self, n):\n",
        "\n",
        "    self.n = n\n",
        "    self.queens = [-1] * n\n",
        "\n",
        "    self.rowLookUp = [False] * n\n",
        "    self.diagonalNormalLookUp = [False] * (n+n-1)\n",
        "    self.diagonalBackwardLookUp = [False] * (n+n-1)\n",
        "\n",
        "  #Print Object as a board\n",
        "  def __str__(self):\n",
        "    res = '\\n\\t'\n",
        "    for num in range(self.n): \n",
        "      res += (str(num) + \"\\t\") \n",
        "    res += '\\n\\n'\n",
        "    board =  [[ '_' for j in range(self.n)] for i in range(self.n)]\n",
        "    for col, row in enumerate(self.queens):\n",
        "      if(row!=-1):\n",
        "        board[row][col] = 'Q'\n",
        "    for index, i in enumerate(range(self.n)): \n",
        "      res += str(index) + \"\\t\"\n",
        "      for j in range(self.n): \n",
        "        res += (str(board[i][j]) + \"\\t\") \n",
        "      res += '\\n\\n'\n",
        "    return res\n",
        "\n",
        "\n",
        "  '''COGNITION'''\n",
        "  #Set and Unset Functions for the Lookups\n",
        "  def setDiagonalNormalLookUp(self,row,col):\n",
        "        self.diagonalNormalLookUp[row+col] = True\n",
        "\n",
        "  def unsetDiagonalNormalLookUp(self,row,col):\n",
        "        self.diagonalNormalLookUp[row+col] = False\n",
        "\n",
        "  def setDiagonalBackwardLookUp(self,row,col):\n",
        "        self.diagonalBackwardLookUp[row-col+self.n-1] = True\n",
        "\n",
        "  def unsetDiagonalBackwardLookUp(self,row,col):\n",
        "        self.diagonalBackwardLookUp[row-col+self.n-1] = False\n",
        "\n",
        "  def setRowLookUp(self,row):\n",
        "        self.rowLookUp[row] = True\n",
        "\n",
        "  def unsetRowLookUp(self,row):\n",
        "        self.rowLookUp[row] = False\n",
        "\n",
        "\n",
        "  #Returns true only if all three lookups are false\n",
        "  '''CONSTRAINTS'''\n",
        "  def ifPossible(self, row, col):\n",
        "    return ( self.rowLookUp[row] == False and \n",
        "            self.diagonalNormalLookUp[row+col] == False and \n",
        "            self.diagonalBackwardLookUp[row-col+self.n-1] == False )\n",
        "\n",
        "  '''ALGORITHM'''\n",
        "  #Solves Recursively, one column at a time\n",
        "  def _solveRecursive(self, col):\n",
        "\n",
        "    #Return True if N Queens have been placed\n",
        "    if col == self.n: \n",
        "        return True\n",
        "\n",
        "    #For each cell in the current column\n",
        "    for row in range(self.n): \n",
        "\n",
        "      #If It is possible to place a Queen\n",
        "      if self.ifPossible(row, col):\n",
        "        \n",
        "        #Place the Queen\n",
        "        self.queens[col] = row\n",
        "\n",
        "        #Set the Lookups \n",
        "        self.setRowLookUp(row)\n",
        "        self.setDiagonalNormalLookUp(row,col)\n",
        "        self.setDiagonalBackwardLookUp(row,col)\n",
        "        \n",
        "        #Try to place the next queen in the next column\n",
        "        if self._solveRecursive(col + 1) == True: \n",
        "          return True\n",
        "        \n",
        "        #Unplace the queen\n",
        "        self.queens[col] = -1\n",
        "\n",
        "        #Unset the Lookups\n",
        "        self.unsetRowLookUp(row)\n",
        "        self.unsetDiagonalNormalLookUp(row,col)\n",
        "        self.unsetDiagonalBackwardLookUp(row,col)\n",
        "\n",
        "    #Return False if No queens were placed in the Column\n",
        "    return False\n",
        "\n",
        "  #Driver function to solve\n",
        "  def solve(self):\n",
        "\n",
        "    #Try to place the first Queen in the first column\n",
        "    if self._solveRecursive(0) == False: \n",
        "      print (\"Solution does not exist\") \n",
        "      return False\n",
        "\n",
        "    return True\n",
        "\n",
        "\n",
        "def execute(n):\n",
        "  puzzle = N_Queens(n)\n",
        "  print('Before Solving : ',puzzle)\n",
        "  puzzle.solve()\n",
        "  print('\\n\\nAfter Solving : ',puzzle)"
      ],
      "execution_count": 1,
      "outputs": []
    },
    {
      "cell_type": "code",
      "metadata": {
        "colab": {
          "base_uri": "https://localhost:8080/"
        },
        "id": "MZ5LaKmYXT5Z",
        "outputId": "09924df8-0b59-4b3e-daba-5e96becbb73f"
      },
      "source": [
        "execute(8)"
      ],
      "execution_count": 2,
      "outputs": [
        {
          "output_type": "stream",
          "text": [
            "Before Solving :  \n",
            "\t0\t1\t2\t3\t4\t5\t6\t7\t\n",
            "\n",
            "0\t_\t_\t_\t_\t_\t_\t_\t_\t\n",
            "\n",
            "1\t_\t_\t_\t_\t_\t_\t_\t_\t\n",
            "\n",
            "2\t_\t_\t_\t_\t_\t_\t_\t_\t\n",
            "\n",
            "3\t_\t_\t_\t_\t_\t_\t_\t_\t\n",
            "\n",
            "4\t_\t_\t_\t_\t_\t_\t_\t_\t\n",
            "\n",
            "5\t_\t_\t_\t_\t_\t_\t_\t_\t\n",
            "\n",
            "6\t_\t_\t_\t_\t_\t_\t_\t_\t\n",
            "\n",
            "7\t_\t_\t_\t_\t_\t_\t_\t_\t\n",
            "\n",
            "\n",
            "\n",
            "\n",
            "After Solving :  \n",
            "\t0\t1\t2\t3\t4\t5\t6\t7\t\n",
            "\n",
            "0\tQ\t_\t_\t_\t_\t_\t_\t_\t\n",
            "\n",
            "1\t_\t_\t_\t_\t_\t_\tQ\t_\t\n",
            "\n",
            "2\t_\t_\t_\t_\tQ\t_\t_\t_\t\n",
            "\n",
            "3\t_\t_\t_\t_\t_\t_\t_\tQ\t\n",
            "\n",
            "4\t_\tQ\t_\t_\t_\t_\t_\t_\t\n",
            "\n",
            "5\t_\t_\t_\tQ\t_\t_\t_\t_\t\n",
            "\n",
            "6\t_\t_\t_\t_\t_\tQ\t_\t_\t\n",
            "\n",
            "7\t_\t_\tQ\t_\t_\t_\t_\t_\t\n",
            "\n",
            "\n"
          ],
          "name": "stdout"
        }
      ]
    },
    {
      "cell_type": "code",
      "metadata": {
        "colab": {
          "base_uri": "https://localhost:8080/"
        },
        "id": "WaR3QdF5XXYI",
        "outputId": "599b212a-c6b9-4267-b9db-fa45359fc26b"
      },
      "source": [
        "execute(4)"
      ],
      "execution_count": 3,
      "outputs": [
        {
          "output_type": "stream",
          "text": [
            "Before Solving :  \n",
            "\t0\t1\t2\t3\t\n",
            "\n",
            "0\t_\t_\t_\t_\t\n",
            "\n",
            "1\t_\t_\t_\t_\t\n",
            "\n",
            "2\t_\t_\t_\t_\t\n",
            "\n",
            "3\t_\t_\t_\t_\t\n",
            "\n",
            "\n",
            "\n",
            "\n",
            "After Solving :  \n",
            "\t0\t1\t2\t3\t\n",
            "\n",
            "0\t_\t_\tQ\t_\t\n",
            "\n",
            "1\tQ\t_\t_\t_\t\n",
            "\n",
            "2\t_\t_\t_\tQ\t\n",
            "\n",
            "3\t_\tQ\t_\t_\t\n",
            "\n",
            "\n"
          ],
          "name": "stdout"
        }
      ]
    },
    {
      "cell_type": "code",
      "metadata": {
        "colab": {
          "base_uri": "https://localhost:8080/"
        },
        "id": "2f1HqvOSXYhO",
        "outputId": "7c01b431-2683-44ca-9b19-7a8cb03c2433"
      },
      "source": [
        "execute(9)"
      ],
      "execution_count": 4,
      "outputs": [
        {
          "output_type": "stream",
          "text": [
            "Before Solving :  \n",
            "\t0\t1\t2\t3\t4\t5\t6\t7\t8\t\n",
            "\n",
            "0\t_\t_\t_\t_\t_\t_\t_\t_\t_\t\n",
            "\n",
            "1\t_\t_\t_\t_\t_\t_\t_\t_\t_\t\n",
            "\n",
            "2\t_\t_\t_\t_\t_\t_\t_\t_\t_\t\n",
            "\n",
            "3\t_\t_\t_\t_\t_\t_\t_\t_\t_\t\n",
            "\n",
            "4\t_\t_\t_\t_\t_\t_\t_\t_\t_\t\n",
            "\n",
            "5\t_\t_\t_\t_\t_\t_\t_\t_\t_\t\n",
            "\n",
            "6\t_\t_\t_\t_\t_\t_\t_\t_\t_\t\n",
            "\n",
            "7\t_\t_\t_\t_\t_\t_\t_\t_\t_\t\n",
            "\n",
            "8\t_\t_\t_\t_\t_\t_\t_\t_\t_\t\n",
            "\n",
            "\n",
            "\n",
            "\n",
            "After Solving :  \n",
            "\t0\t1\t2\t3\t4\t5\t6\t7\t8\t\n",
            "\n",
            "0\tQ\t_\t_\t_\t_\t_\t_\t_\t_\t\n",
            "\n",
            "1\t_\t_\t_\t_\tQ\t_\t_\t_\t_\t\n",
            "\n",
            "2\t_\tQ\t_\t_\t_\t_\t_\t_\t_\t\n",
            "\n",
            "3\t_\t_\t_\t_\t_\tQ\t_\t_\t_\t\n",
            "\n",
            "4\t_\t_\t_\t_\t_\t_\t_\t_\tQ\t\n",
            "\n",
            "5\t_\t_\tQ\t_\t_\t_\t_\t_\t_\t\n",
            "\n",
            "6\t_\t_\t_\t_\t_\t_\t_\tQ\t_\t\n",
            "\n",
            "7\t_\t_\t_\tQ\t_\t_\t_\t_\t_\t\n",
            "\n",
            "8\t_\t_\t_\t_\t_\t_\tQ\t_\t_\t\n",
            "\n",
            "\n"
          ],
          "name": "stdout"
        }
      ]
    },
    {
      "cell_type": "code",
      "metadata": {
        "colab": {
          "base_uri": "https://localhost:8080/"
        },
        "id": "FrQ0fD0YXaOf",
        "outputId": "5b2e719a-3029-42df-92a2-2f19232ad007"
      },
      "source": [
        "execute(2)"
      ],
      "execution_count": 5,
      "outputs": [
        {
          "output_type": "stream",
          "text": [
            "Before Solving :  \n",
            "\t0\t1\t\n",
            "\n",
            "0\t_\t_\t\n",
            "\n",
            "1\t_\t_\t\n",
            "\n",
            "\n",
            "Solution does not exist\n",
            "\n",
            "\n",
            "After Solving :  \n",
            "\t0\t1\t\n",
            "\n",
            "0\t_\t_\t\n",
            "\n",
            "1\t_\t_\t\n",
            "\n",
            "\n"
          ],
          "name": "stdout"
        }
      ]
    },
    {
      "cell_type": "code",
      "metadata": {
        "colab": {
          "base_uri": "https://localhost:8080/"
        },
        "id": "zv0vNyltXfII",
        "outputId": "a0e5a4dd-2d38-4227-dfe7-cd6a3656ca07"
      },
      "source": [
        "execute(6)"
      ],
      "execution_count": 6,
      "outputs": [
        {
          "output_type": "stream",
          "text": [
            "Before Solving :  \n",
            "\t0\t1\t2\t3\t4\t5\t\n",
            "\n",
            "0\t_\t_\t_\t_\t_\t_\t\n",
            "\n",
            "1\t_\t_\t_\t_\t_\t_\t\n",
            "\n",
            "2\t_\t_\t_\t_\t_\t_\t\n",
            "\n",
            "3\t_\t_\t_\t_\t_\t_\t\n",
            "\n",
            "4\t_\t_\t_\t_\t_\t_\t\n",
            "\n",
            "5\t_\t_\t_\t_\t_\t_\t\n",
            "\n",
            "\n",
            "\n",
            "\n",
            "After Solving :  \n",
            "\t0\t1\t2\t3\t4\t5\t\n",
            "\n",
            "0\t_\t_\t_\tQ\t_\t_\t\n",
            "\n",
            "1\tQ\t_\t_\t_\t_\t_\t\n",
            "\n",
            "2\t_\t_\t_\t_\tQ\t_\t\n",
            "\n",
            "3\t_\tQ\t_\t_\t_\t_\t\n",
            "\n",
            "4\t_\t_\t_\t_\t_\tQ\t\n",
            "\n",
            "5\t_\t_\tQ\t_\t_\t_\t\n",
            "\n",
            "\n"
          ],
          "name": "stdout"
        }
      ]
    },
    {
      "cell_type": "code",
      "metadata": {
        "id": "cOZfN3n5XhgW"
      },
      "source": [
        ""
      ],
      "execution_count": null,
      "outputs": []
    }
  ]
}