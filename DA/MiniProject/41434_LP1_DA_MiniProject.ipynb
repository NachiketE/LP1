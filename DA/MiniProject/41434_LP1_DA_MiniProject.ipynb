{
  "nbformat": 4,
  "nbformat_minor": 0,
  "metadata": {
    "kernelspec": {
      "name": "python3",
      "display_name": "Python 3",
      "language": "python"
    },
    "language_info": {
      "name": "python",
      "version": "3.7.6",
      "mimetype": "text/x-python",
      "codemirror_mode": {
        "name": "ipython",
        "version": 3
      },
      "pygments_lexer": "ipython3",
      "nbconvert_exporter": "python",
      "file_extension": ".py"
    },
    "colab": {
      "name": "41434_LP1_DA_MiniProject.ipynb",
      "provenance": [],
      "collapsed_sections": []
    },
    "accelerator": "GPU"
  },
  "cells": [
    {
      "cell_type": "code",
      "metadata": {
        "_uuid": "8f2839f25d086af736a60e9eeb907d3b93b6e0e5",
        "_cell_guid": "b1076dfc-b9ad-4769-8c92-a6c4dae69d19",
        "trusted": true,
        "id": "8m_RInzXHcFC"
      },
      "source": [
        "import numpy as np \n",
        "import pandas as pd "
      ],
      "execution_count": 24,
      "outputs": []
    },
    {
      "cell_type": "code",
      "metadata": {
        "_uuid": "d629ff2d2480ee46fbb7e2d37f6b5fab8052498a",
        "_cell_guid": "79c7e3d0-c299-4dcb-8224-4455121ee9b0",
        "trusted": true,
        "id": "tsMscppnHcFE"
      },
      "source": [
        "import pandas as pd\n",
        "import matplotlib.pyplot as plt"
      ],
      "execution_count": 25,
      "outputs": []
    },
    {
      "cell_type": "code",
      "metadata": {
        "trusted": true,
        "id": "Et0nueZFHcFE"
      },
      "source": [
        "data = pd.read_csv('/content/2010-capitalbikeshare-tripdata.csv')"
      ],
      "execution_count": 26,
      "outputs": []
    },
    {
      "cell_type": "code",
      "metadata": {
        "trusted": true,
        "id": "Fnrsw_uRHcFG"
      },
      "source": [
        "data = data[data['End date']>=data['Start date']]"
      ],
      "execution_count": 27,
      "outputs": []
    },
    {
      "cell_type": "code",
      "metadata": {
        "trusted": true,
        "id": "GLr8LVA2HcFG"
      },
      "source": [
        "data['Start date']= pd.to_datetime(data['Start date'],format='%Y-%m-%d %H:%M:%S')\n",
        "data['End date']= pd.to_datetime(data['End date'],format='%Y-%m-%d %H:%M:%S')\n"
      ],
      "execution_count": 28,
      "outputs": []
    },
    {
      "cell_type": "code",
      "metadata": {
        "trusted": true,
        "id": "OLY_FixiHcFG"
      },
      "source": [
        "data['Start_year'] = data['Start date'].dt.year\n",
        "data['Start_month'] = data['Start date'].dt.month\n",
        "data['Start_day'] = data['Start date'].dt.day\n",
        "data['Start_hour'] = data['Start date'].dt.hour\n",
        "data['Start_minute'] = data['Start date'].dt.minute\n",
        "data['Start_second']  =data['Start date'].dt.second\n",
        "\n",
        "data['End_year'] = data['End date'].dt.year\n",
        "data['End_month'] = data['End date'].dt.month\n",
        "data['End_day'] = data['End date'].dt.day\n",
        "data['End_hour'] = data['End date'].dt.hour\n",
        "data['End_minute'] = data['End date'].dt.minute\n",
        "data['End_second']  =data['End date'].dt.second"
      ],
      "execution_count": 29,
      "outputs": []
    },
    {
      "cell_type": "code",
      "metadata": {
        "trusted": true,
        "id": "jweIVc5NHcFH"
      },
      "source": [
        "for l in data:\n",
        "    if(data[l].dtype=='object'):\n",
        "        data[l]= data[l].astype('category')\n",
        "        data[l]= data[l].cat.codes\n"
      ],
      "execution_count": 30,
      "outputs": []
    },
    {
      "cell_type": "code",
      "metadata": {
        "trusted": true,
        "id": "H-TOnu60HcFI"
      },
      "source": [
        "data =data.drop(columns=['Start date','End date','Start station','End station','Start_year','End_year','Start_minute','End_minute','Start_second','End_second'])\n"
      ],
      "execution_count": 31,
      "outputs": []
    },
    {
      "cell_type": "code",
      "metadata": {
        "trusted": true,
        "colab": {
          "base_uri": "https://localhost:8080/",
          "height": 212
        },
        "id": "_Ait3fHaHcFI",
        "outputId": "cca26b15-d885-4f72-98e7-bfbb26a4ace9"
      },
      "source": [
        "data.head()"
      ],
      "execution_count": 32,
      "outputs": [
        {
          "output_type": "execute_result",
          "data": {
            "text/html": [
              "<div>\n",
              "<style scoped>\n",
              "    .dataframe tbody tr th:only-of-type {\n",
              "        vertical-align: middle;\n",
              "    }\n",
              "\n",
              "    .dataframe tbody tr th {\n",
              "        vertical-align: top;\n",
              "    }\n",
              "\n",
              "    .dataframe thead th {\n",
              "        text-align: right;\n",
              "    }\n",
              "</style>\n",
              "<table border=\"1\" class=\"dataframe\">\n",
              "  <thead>\n",
              "    <tr style=\"text-align: right;\">\n",
              "      <th></th>\n",
              "      <th>Duration</th>\n",
              "      <th>Start station number</th>\n",
              "      <th>End station number</th>\n",
              "      <th>Bike number</th>\n",
              "      <th>Member type</th>\n",
              "      <th>Start_month</th>\n",
              "      <th>Start_day</th>\n",
              "      <th>Start_hour</th>\n",
              "      <th>End_month</th>\n",
              "      <th>End_day</th>\n",
              "      <th>End_hour</th>\n",
              "    </tr>\n",
              "  </thead>\n",
              "  <tbody>\n",
              "    <tr>\n",
              "      <th>0</th>\n",
              "      <td>1012</td>\n",
              "      <td>31208</td>\n",
              "      <td>31108</td>\n",
              "      <td>614</td>\n",
              "      <td>1</td>\n",
              "      <td>9</td>\n",
              "      <td>20</td>\n",
              "      <td>11</td>\n",
              "      <td>9</td>\n",
              "      <td>20</td>\n",
              "      <td>11</td>\n",
              "    </tr>\n",
              "    <tr>\n",
              "      <th>1</th>\n",
              "      <td>61</td>\n",
              "      <td>31209</td>\n",
              "      <td>31209</td>\n",
              "      <td>41</td>\n",
              "      <td>1</td>\n",
              "      <td>9</td>\n",
              "      <td>20</td>\n",
              "      <td>11</td>\n",
              "      <td>9</td>\n",
              "      <td>20</td>\n",
              "      <td>11</td>\n",
              "    </tr>\n",
              "    <tr>\n",
              "      <th>2</th>\n",
              "      <td>2690</td>\n",
              "      <td>31600</td>\n",
              "      <td>31100</td>\n",
              "      <td>836</td>\n",
              "      <td>1</td>\n",
              "      <td>9</td>\n",
              "      <td>20</td>\n",
              "      <td>12</td>\n",
              "      <td>9</td>\n",
              "      <td>20</td>\n",
              "      <td>12</td>\n",
              "    </tr>\n",
              "    <tr>\n",
              "      <th>3</th>\n",
              "      <td>1406</td>\n",
              "      <td>31600</td>\n",
              "      <td>31602</td>\n",
              "      <td>282</td>\n",
              "      <td>1</td>\n",
              "      <td>9</td>\n",
              "      <td>20</td>\n",
              "      <td>12</td>\n",
              "      <td>9</td>\n",
              "      <td>20</td>\n",
              "      <td>12</td>\n",
              "    </tr>\n",
              "    <tr>\n",
              "      <th>4</th>\n",
              "      <td>1413</td>\n",
              "      <td>31100</td>\n",
              "      <td>31201</td>\n",
              "      <td>734</td>\n",
              "      <td>1</td>\n",
              "      <td>9</td>\n",
              "      <td>20</td>\n",
              "      <td>12</td>\n",
              "      <td>9</td>\n",
              "      <td>20</td>\n",
              "      <td>12</td>\n",
              "    </tr>\n",
              "  </tbody>\n",
              "</table>\n",
              "</div>"
            ],
            "text/plain": [
              "   Duration  Start station number  ...  End_day  End_hour\n",
              "0      1012                 31208  ...       20        11\n",
              "1        61                 31209  ...       20        11\n",
              "2      2690                 31600  ...       20        12\n",
              "3      1406                 31600  ...       20        12\n",
              "4      1413                 31100  ...       20        12\n",
              "\n",
              "[5 rows x 11 columns]"
            ]
          },
          "metadata": {
            "tags": []
          },
          "execution_count": 32
        }
      ]
    },
    {
      "cell_type": "code",
      "metadata": {
        "trusted": true,
        "colab": {
          "base_uri": "https://localhost:8080/"
        },
        "id": "or2gLKnZHcFI",
        "outputId": "1c77069e-c98e-4d3f-f83a-7611058616bf"
      },
      "source": [
        "data.shape"
      ],
      "execution_count": 33,
      "outputs": [
        {
          "output_type": "execute_result",
          "data": {
            "text/plain": [
              "(115595, 11)"
            ]
          },
          "metadata": {
            "tags": []
          },
          "execution_count": 33
        }
      ]
    },
    {
      "cell_type": "code",
      "metadata": {
        "trusted": true,
        "id": "31IT0Q0rHcFI"
      },
      "source": [
        "X  = data.drop(columns=['Member type'])\n",
        "y = data['Member type']"
      ],
      "execution_count": 34,
      "outputs": []
    },
    {
      "cell_type": "code",
      "metadata": {
        "trusted": true,
        "id": "gtvi-C7nHcFJ"
      },
      "source": [
        "from sklearn.model_selection import train_test_split"
      ],
      "execution_count": 35,
      "outputs": []
    },
    {
      "cell_type": "code",
      "metadata": {
        "trusted": true,
        "id": "5txtJvw8HcFJ"
      },
      "source": [
        " X_train, X_test, y_train, y_test = train_test_split(X, y, test_size=0.4, random_state=42)"
      ],
      "execution_count": 36,
      "outputs": []
    },
    {
      "cell_type": "code",
      "metadata": {
        "colab": {
          "base_uri": "https://localhost:8080/"
        },
        "id": "x7Lk9qnwa9-I",
        "outputId": "52fe90e9-6fa1-448b-b58a-42eb63784dea"
      },
      "source": [
        "from sklearn.svm import SVC\n",
        "clf = SVC()\n",
        "clf.fit(X_train,y_train)\n",
        "y_pred = clf.predict(X_test)\n",
        "print('Accuracy = ',accuracy_score(y_pred,y_test))"
      ],
      "execution_count": 37,
      "outputs": [
        {
          "output_type": "stream",
          "text": [
            "Accuracy =  0.8501232752281673\n"
          ],
          "name": "stdout"
        }
      ]
    },
    {
      "cell_type": "code",
      "metadata": {
        "colab": {
          "base_uri": "https://localhost:8080/"
        },
        "id": "Rli9ASBRbFQe",
        "outputId": "28d578d1-4cdf-474c-8beb-1b54d07ca8fa"
      },
      "source": [
        "from sklearn.svm import LinearSVC\n",
        "clf = LinearSVC()\n",
        "clf.fit(X_train,y_train)\n",
        "y_pred = clf.predict(X_test)\n",
        "print('Accuracy = ',accuracy_score(y_pred,y_test))"
      ],
      "execution_count": 38,
      "outputs": [
        {
          "output_type": "stream",
          "text": [
            "Accuracy =  0.7771962455123491\n"
          ],
          "name": "stdout"
        },
        {
          "output_type": "stream",
          "text": [
            "/usr/local/lib/python3.6/dist-packages/sklearn/svm/_base.py:947: ConvergenceWarning: Liblinear failed to converge, increase the number of iterations.\n",
            "  \"the number of iterations.\", ConvergenceWarning)\n"
          ],
          "name": "stderr"
        }
      ]
    },
    {
      "cell_type": "code",
      "metadata": {
        "trusted": true,
        "colab": {
          "base_uri": "https://localhost:8080/"
        },
        "id": "wvAGoL60HcFJ",
        "outputId": "1eaad7e3-8291-4b4d-b376-cda40fb5d8c8"
      },
      "source": [
        "from sklearn.tree import DecisionTreeClassifier\n",
        "clf = DecisionTreeClassifier()\n",
        "clf.fit(X_train,y_train)\n",
        "y_pred = clf.predict(X_test)\n",
        "print('Accuracy = ',accuracy_score(y_pred,y_test))"
      ],
      "execution_count": 39,
      "outputs": [
        {
          "output_type": "stream",
          "text": [
            "Accuracy =  0.7979151347376616\n"
          ],
          "name": "stdout"
        }
      ]
    },
    {
      "cell_type": "code",
      "metadata": {
        "id": "IvJnasQ98vQO",
        "colab": {
          "base_uri": "https://localhost:8080/"
        },
        "outputId": "2d93666d-670a-42b2-eabf-18e1149b3de8"
      },
      "source": [
        "from sklearn.ensemble import RandomForestClassifier\n",
        "clf = RandomForestClassifier()\n",
        "clf.fit(X_train,y_train)\n",
        "y_pred = clf.predict(X_test)\n",
        "print('Accuracy = ',accuracy_score(y_pred,y_test))"
      ],
      "execution_count": 40,
      "outputs": [
        {
          "output_type": "stream",
          "text": [
            "Accuracy =  0.8729400060556253\n"
          ],
          "name": "stdout"
        }
      ]
    },
    {
      "cell_type": "code",
      "metadata": {
        "colab": {
          "base_uri": "https://localhost:8080/"
        },
        "id": "RBXpmBIBaPSn",
        "outputId": "e2ee7952-a8cb-45ab-9b80-fd13a304c630"
      },
      "source": [
        "from sklearn.ensemble import GradientBoostingClassifier\n",
        "clf = GradientBoostingClassifier()\n",
        "clf.fit(X_train,y_train)\n",
        "y_pred = clf.predict(X_test)\n",
        "print('Accuracy = ',accuracy_score(y_pred,y_test))"
      ],
      "execution_count": 41,
      "outputs": [
        {
          "output_type": "stream",
          "text": [
            "Accuracy =  0.8647865392101735\n"
          ],
          "name": "stdout"
        }
      ]
    },
    {
      "cell_type": "code",
      "metadata": {
        "colab": {
          "base_uri": "https://localhost:8080/"
        },
        "id": "o1HmYNj5aVtY",
        "outputId": "a8899c5d-3f43-44a9-954c-ab4f01702e76"
      },
      "source": [
        "from xgboost import XGBClassifier\n",
        "clf = XGBClassifier()\n",
        "clf.fit(X_train,y_train)\n",
        "y_pred = clf.predict(X_test)\n",
        "print('Accuracy = ',accuracy_score(y_pred,y_test))"
      ],
      "execution_count": 42,
      "outputs": [
        {
          "output_type": "stream",
          "text": [
            "Accuracy =  0.8638565681906657\n"
          ],
          "name": "stdout"
        }
      ]
    },
    {
      "cell_type": "code",
      "metadata": {
        "colab": {
          "base_uri": "https://localhost:8080/"
        },
        "id": "XVJnaZXuaat3",
        "outputId": "fdd9e8a9-496e-4e37-cd04-0670807e4ffd"
      },
      "source": [
        "from sklearn.neighbors import KNeighborsClassifier\n",
        "clf = KNeighborsClassifier()\n",
        "clf.fit(X_train,y_train)\n",
        "y_pred = clf.predict(X_test)\n",
        "print('Accuracy = ',accuracy_score(y_pred,y_test))"
      ],
      "execution_count": 43,
      "outputs": [
        {
          "output_type": "stream",
          "text": [
            "Accuracy =  0.8464033911501363\n"
          ],
          "name": "stdout"
        }
      ]
    },
    {
      "cell_type": "code",
      "metadata": {
        "colab": {
          "base_uri": "https://localhost:8080/"
        },
        "id": "ESOy3h9Va1ec",
        "outputId": "522e8b10-3fbe-4df5-95d6-cae46a37045b"
      },
      "source": [
        "from sklearn.naive_bayes import GaussianNB\n",
        "clf = GaussianNB()\n",
        "clf.fit(X_train,y_train)\n",
        "y_pred = clf.predict(X_test)\n",
        "print('Accuracy = ',accuracy_score(y_pred,y_test))"
      ],
      "execution_count": 44,
      "outputs": [
        {
          "output_type": "stream",
          "text": [
            "Accuracy =  0.8398503395475583\n"
          ],
          "name": "stdout"
        }
      ]
    },
    {
      "cell_type": "code",
      "metadata": {
        "id": "32pFQC6JbxBW"
      },
      "source": [
        ""
      ],
      "execution_count": 44,
      "outputs": []
    }
  ]
}