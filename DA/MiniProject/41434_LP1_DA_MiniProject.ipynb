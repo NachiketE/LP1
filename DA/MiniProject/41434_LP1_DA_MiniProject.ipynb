{
  "nbformat": 4,
  "nbformat_minor": 0,
  "metadata": {
    "kernelspec": {
      "name": "python3",
      "display_name": "Python 3",
      "language": "python"
    },
    "language_info": {
      "name": "python",
      "version": "3.7.6",
      "mimetype": "text/x-python",
      "codemirror_mode": {
        "name": "ipython",
        "version": 3
      },
      "pygments_lexer": "ipython3",
      "nbconvert_exporter": "python",
      "file_extension": ".py"
    },
    "colab": {
      "name": "41434_LP1_DA_MiniProject.ipynb",
      "provenance": [],
      "collapsed_sections": []
    },
    "accelerator": "GPU"
  },
  "cells": [
    {
      "cell_type": "code",
      "metadata": {
        "_uuid": "8f2839f25d086af736a60e9eeb907d3b93b6e0e5",
        "_cell_guid": "b1076dfc-b9ad-4769-8c92-a6c4dae69d19",
        "trusted": true,
        "id": "8m_RInzXHcFC"
      },
      "source": [
        "import numpy as np \n",
        "import pandas as pd "
      ],
      "execution_count": 1,
      "outputs": []
    },
    {
      "cell_type": "code",
      "metadata": {
        "_uuid": "d629ff2d2480ee46fbb7e2d37f6b5fab8052498a",
        "_cell_guid": "79c7e3d0-c299-4dcb-8224-4455121ee9b0",
        "trusted": true,
        "id": "tsMscppnHcFE"
      },
      "source": [
        "import pandas as pd\n",
        "import matplotlib.pyplot as plt"
      ],
      "execution_count": 2,
      "outputs": []
    },
    {
      "cell_type": "code",
      "metadata": {
        "trusted": true,
        "id": "Et0nueZFHcFE"
      },
      "source": [
        "data = pd.read_csv('/content/2010-capitalbikeshare-tripdata.csv')"
      ],
      "execution_count": 3,
      "outputs": []
    },
    {
      "cell_type": "code",
      "metadata": {
        "trusted": true,
        "id": "Fnrsw_uRHcFG"
      },
      "source": [
        "data = data[data['End date']>=data['Start date']]"
      ],
      "execution_count": 4,
      "outputs": []
    },
    {
      "cell_type": "code",
      "metadata": {
        "trusted": true,
        "id": "GLr8LVA2HcFG"
      },
      "source": [
        "data['Start date']= pd.to_datetime(data['Start date'],format='%Y-%m-%d %H:%M:%S')\n",
        "data['End date']= pd.to_datetime(data['End date'],format='%Y-%m-%d %H:%M:%S')\n"
      ],
      "execution_count": 5,
      "outputs": []
    },
    {
      "cell_type": "code",
      "metadata": {
        "trusted": true,
        "id": "oXVYBAJVHcFG"
      },
      "source": [
        "data['Start_year'] = data['Start date'].dt.year\n",
        "data['Start_month'] = data['Start date'].dt.month\n",
        "data['Start_day'] = data['Start date'].dt.day\n",
        "data['Start_hour'] = data['Start date'].dt.hour\n",
        "data['Start_minute'] = data['Start date'].dt.minute\n",
        "data['Start_second']  =data['Start date'].dt.second"
      ],
      "execution_count": 6,
      "outputs": []
    },
    {
      "cell_type": "code",
      "metadata": {
        "trusted": true,
        "id": "OLY_FixiHcFG"
      },
      "source": [
        "data['End_year'] = data['End date'].dt.year\n",
        "data['End_month'] = data['End date'].dt.month\n",
        "data['End_day'] = data['End date'].dt.day\n",
        "data['End_hour'] = data['End date'].dt.hour\n",
        "data['End_minute'] = data['End date'].dt.minute\n",
        "data['End_second']  =data['End date'].dt.second"
      ],
      "execution_count": 7,
      "outputs": []
    },
    {
      "cell_type": "code",
      "metadata": {
        "trusted": true,
        "id": "jweIVc5NHcFH"
      },
      "source": [
        "for l in data:\n",
        "    if(data[l].dtype=='object'):\n",
        "        data[l]= data[l].astype('category')\n",
        "        data[l]= data[l].cat.codes\n"
      ],
      "execution_count": 8,
      "outputs": []
    },
    {
      "cell_type": "code",
      "metadata": {
        "trusted": true,
        "id": "H-TOnu60HcFI"
      },
      "source": [
        "data =data.drop(columns=['Start date','End date','Start station','End station','Start_year','End_year','Start_minute','End_minute','Start_second','End_second'])\n"
      ],
      "execution_count": 9,
      "outputs": []
    },
    {
      "cell_type": "code",
      "metadata": {
        "trusted": true,
        "colab": {
          "base_uri": "https://localhost:8080/",
          "height": 257
        },
        "id": "_Ait3fHaHcFI",
        "outputId": "4999cf6b-53e5-407c-8c8c-518e587dbaef"
      },
      "source": [
        "data.head()"
      ],
      "execution_count": 10,
      "outputs": [
        {
          "output_type": "execute_result",
          "data": {
            "text/html": [
              "<div>\n",
              "<style scoped>\n",
              "    .dataframe tbody tr th:only-of-type {\n",
              "        vertical-align: middle;\n",
              "    }\n",
              "\n",
              "    .dataframe tbody tr th {\n",
              "        vertical-align: top;\n",
              "    }\n",
              "\n",
              "    .dataframe thead th {\n",
              "        text-align: right;\n",
              "    }\n",
              "</style>\n",
              "<table border=\"1\" class=\"dataframe\">\n",
              "  <thead>\n",
              "    <tr style=\"text-align: right;\">\n",
              "      <th></th>\n",
              "      <th>Duration</th>\n",
              "      <th>Start station number</th>\n",
              "      <th>End station number</th>\n",
              "      <th>Bike number</th>\n",
              "      <th>Member type</th>\n",
              "      <th>Start_month</th>\n",
              "      <th>Start_day</th>\n",
              "      <th>Start_hour</th>\n",
              "      <th>End_month</th>\n",
              "      <th>End_day</th>\n",
              "      <th>End_hour</th>\n",
              "    </tr>\n",
              "  </thead>\n",
              "  <tbody>\n",
              "    <tr>\n",
              "      <th>0</th>\n",
              "      <td>1012</td>\n",
              "      <td>31208</td>\n",
              "      <td>31108</td>\n",
              "      <td>614</td>\n",
              "      <td>1</td>\n",
              "      <td>9</td>\n",
              "      <td>20</td>\n",
              "      <td>11</td>\n",
              "      <td>9</td>\n",
              "      <td>20</td>\n",
              "      <td>11</td>\n",
              "    </tr>\n",
              "    <tr>\n",
              "      <th>1</th>\n",
              "      <td>61</td>\n",
              "      <td>31209</td>\n",
              "      <td>31209</td>\n",
              "      <td>41</td>\n",
              "      <td>1</td>\n",
              "      <td>9</td>\n",
              "      <td>20</td>\n",
              "      <td>11</td>\n",
              "      <td>9</td>\n",
              "      <td>20</td>\n",
              "      <td>11</td>\n",
              "    </tr>\n",
              "    <tr>\n",
              "      <th>2</th>\n",
              "      <td>2690</td>\n",
              "      <td>31600</td>\n",
              "      <td>31100</td>\n",
              "      <td>836</td>\n",
              "      <td>1</td>\n",
              "      <td>9</td>\n",
              "      <td>20</td>\n",
              "      <td>12</td>\n",
              "      <td>9</td>\n",
              "      <td>20</td>\n",
              "      <td>12</td>\n",
              "    </tr>\n",
              "    <tr>\n",
              "      <th>3</th>\n",
              "      <td>1406</td>\n",
              "      <td>31600</td>\n",
              "      <td>31602</td>\n",
              "      <td>282</td>\n",
              "      <td>1</td>\n",
              "      <td>9</td>\n",
              "      <td>20</td>\n",
              "      <td>12</td>\n",
              "      <td>9</td>\n",
              "      <td>20</td>\n",
              "      <td>12</td>\n",
              "    </tr>\n",
              "    <tr>\n",
              "      <th>4</th>\n",
              "      <td>1413</td>\n",
              "      <td>31100</td>\n",
              "      <td>31201</td>\n",
              "      <td>734</td>\n",
              "      <td>1</td>\n",
              "      <td>9</td>\n",
              "      <td>20</td>\n",
              "      <td>12</td>\n",
              "      <td>9</td>\n",
              "      <td>20</td>\n",
              "      <td>12</td>\n",
              "    </tr>\n",
              "  </tbody>\n",
              "</table>\n",
              "</div>"
            ],
            "text/plain": [
              "   Duration  Start station number  ...  End_day  End_hour\n",
              "0      1012                 31208  ...       20        11\n",
              "1        61                 31209  ...       20        11\n",
              "2      2690                 31600  ...       20        12\n",
              "3      1406                 31600  ...       20        12\n",
              "4      1413                 31100  ...       20        12\n",
              "\n",
              "[5 rows x 11 columns]"
            ]
          },
          "metadata": {
            "tags": []
          },
          "execution_count": 10
        }
      ]
    },
    {
      "cell_type": "code",
      "metadata": {
        "trusted": true,
        "colab": {
          "base_uri": "https://localhost:8080/"
        },
        "id": "or2gLKnZHcFI",
        "outputId": "144a04ba-f20d-429d-9ee9-dbcce6d9ea79"
      },
      "source": [
        "data.shape"
      ],
      "execution_count": 11,
      "outputs": [
        {
          "output_type": "execute_result",
          "data": {
            "text/plain": [
              "(115595, 11)"
            ]
          },
          "metadata": {
            "tags": []
          },
          "execution_count": 11
        }
      ]
    },
    {
      "cell_type": "code",
      "metadata": {
        "trusted": true,
        "id": "31IT0Q0rHcFI"
      },
      "source": [
        "X  = data.drop(columns=['Member type'])\n",
        "y = data['Member type']"
      ],
      "execution_count": 12,
      "outputs": []
    },
    {
      "cell_type": "code",
      "metadata": {
        "trusted": true,
        "id": "gtvi-C7nHcFJ"
      },
      "source": [
        "from sklearn.model_selection import train_test_split"
      ],
      "execution_count": 13,
      "outputs": []
    },
    {
      "cell_type": "code",
      "metadata": {
        "trusted": true,
        "id": "5txtJvw8HcFJ"
      },
      "source": [
        " X_train, X_test, y_train, y_test = train_test_split(X, y, test_size=0.4, random_state=42)"
      ],
      "execution_count": 14,
      "outputs": []
    },
    {
      "cell_type": "code",
      "metadata": {
        "trusted": true,
        "colab": {
          "base_uri": "https://localhost:8080/"
        },
        "id": "pAH8zWXcHcFJ",
        "outputId": "6f983fd9-a5eb-46a8-f120-d5d4d226f6ad"
      },
      "source": [
        "from sklearn.metrics import accuracy_score\n",
        "from sklearn.linear_model import LogisticRegression\n",
        "from sklearn.svm import SVC, LinearSVC\n",
        "from sklearn.neighbors import KNeighborsClassifier\n",
        "from sklearn.tree import DecisionTreeClassifier\n",
        "from sklearn.ensemble import RandomForestClassifier\n",
        "from sklearn.naive_bayes import GaussianNB\n",
        "from xgboost import XGBClassifier\n",
        "from sklearn.model_selection import cross_val_score\n",
        "models = []\n",
        "\n",
        "# models.append((\"LogisticRegression\",LogisticRegression()))\n",
        "# models.append((\"SVC\",SVC()))\n",
        "# models.append((\"LinearSVC\",LinearSVC()))\n",
        "# models.append((\"KNeighbors\",KNeighborsClassifier()))\n",
        "models.append((\"DecisionTree\",DecisionTreeClassifier()))\n",
        "models.append((\"RandomForest\",RandomForestClassifier()))\n",
        "rf2 = RandomForestClassifier(n_estimators=100, criterion='gini',max_depth=10, random_state=0, max_features=None)\n",
        "models.append((\"RandomForest2\",rf2))\n",
        "models.append((\"XGBoost\",XGBClassifier()))\n",
        "results = []\n",
        "names = []\n",
        "for name,model in models:\n",
        "    result = cross_val_score(model, X_train, y_train,  cv=3)\n",
        "    names.append(name)\n",
        "    results.append(result)\n",
        "\n",
        "for i in range(len(names)):\n",
        "    print(names[i],results[i].mean())"
      ],
      "execution_count": 15,
      "outputs": [
        {
          "output_type": "stream",
          "text": [
            "DecisionTree 0.7924939083293684\n",
            "RandomForest 0.8701789293077843\n",
            "RandomForest2 0.8641377222198191\n",
            "XGBoost 0.8642098129965253\n"
          ],
          "name": "stdout"
        }
      ]
    },
    {
      "cell_type": "code",
      "metadata": {
        "trusted": true,
        "colab": {
          "base_uri": "https://localhost:8080/"
        },
        "id": "wvAGoL60HcFJ",
        "outputId": "de322849-5088-4d4a-be16-b69d90c23eee"
      },
      "source": [
        "from sklearn.ensemble import RandomForestClassifier\n",
        "clf = RandomForestClassifier()\n",
        "clf.fit(X_train,y_train)\n",
        "y_pred = clf.predict(X_test)\n",
        "print('Accuracy = ',accuracy_score(y_pred,y_test))"
      ],
      "execution_count": 16,
      "outputs": [
        {
          "output_type": "stream",
          "text": [
            "Accuracy =  0.8738916043081448\n"
          ],
          "name": "stdout"
        }
      ]
    }
  ]
}