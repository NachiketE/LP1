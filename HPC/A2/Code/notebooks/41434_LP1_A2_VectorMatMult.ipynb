{
  "nbformat": 4,
  "nbformat_minor": 0,
  "metadata": {
    "colab": {
      "name": "LP1-A2-VectorMatMult.ipynb",
      "provenance": []
    },
    "kernelspec": {
      "name": "python3",
      "display_name": "Python 3"
    },
    "accelerator": "GPU"
  },
  "cells": [
    {
      "cell_type": "code",
      "metadata": {
        "id": "nocrWmJucAXq",
        "colab_type": "code",
        "colab": {}
      },
      "source": [
        "code = \"\"\"#include<iostream>\n",
        "\n",
        "using namespace std;\n",
        "\n",
        "__global__\n",
        "void matrixVector(int *vec, int *mat, int *result, int n, int m)\n",
        "{\n",
        "    int tid = blockIdx.x*blockDim.x + threadIdx.x;\n",
        "    int sum=0;\n",
        "    \n",
        "    if(tid <= n) {\n",
        "        for(int i=0; i<n; i++) {\n",
        "            sum += vec[i]*mat[(i*m) + tid];\n",
        "        }\n",
        "        result[tid] = sum;\n",
        "    }\n",
        "}\n",
        "\n",
        "void init_array(int *a, int n) {\n",
        "    for(int i=0; i<n; i++)\n",
        "      a[i] = rand()%n + 1;\n",
        "}\n",
        "\n",
        "void init_matrix(int *a, int n, int m) {\n",
        "    for(int i=0; i<n; i++) {\n",
        "        for(int j=0; j<m; j++) {\n",
        "            a[i*m + j] = rand()%n + 1;\n",
        "        }\n",
        "    }\n",
        "}\n",
        "\n",
        "void print_array(int *a, int n) {\n",
        "    for(int i=0; i<n; i++) {\n",
        "        cout<<\"  \"<<a[i];\n",
        "    }\n",
        "    cout<<endl;\n",
        "}\n",
        "\n",
        "void print_matrix(int *a, int n, int m) {\n",
        "    for(int i=0; i<n; i++) {\n",
        "        for(int j=0; j<m; j++)\n",
        "          cout<<\"  \"<<a[i*m + j];\n",
        "        cout<<endl;\n",
        "    }\n",
        "}\n",
        "\n",
        "int main() {\n",
        "    int *a, *b, *c;\n",
        "    int *a_dev, *b_dev, *c_dev;\n",
        "    \n",
        "    int n = 3;\n",
        "    int m = 4;\n",
        "    \n",
        "    a = new int[n];\n",
        "    b = new int[n*m];\n",
        "    c = new int[m];\n",
        "    \n",
        "    init_array(a, n);\n",
        "    init_matrix(b, n, m);\n",
        "        \n",
        "    cout<<\"Initial array : \"<<endl;\n",
        "    print_array(a, n);\n",
        "    cout<<\"Initial matrix : \"<<endl;\n",
        "    print_matrix(b, n, m);\n",
        "    cout<<\"Initial resultant array : \"<<endl;\n",
        "    print_array(c, m);\n",
        "    cout<<endl;\n",
        "    \n",
        "    cudaMalloc(&a_dev, sizeof(int)*n);\n",
        "    cudaMalloc(&b_dev, sizeof(int)*n*m);\n",
        "    cudaMalloc(&c_dev, sizeof(int)*m);\n",
        "    \n",
        "    cudaMemcpy(a_dev, a, sizeof(int)*n, cudaMemcpyHostToDevice);\n",
        "    cudaMemcpy(b_dev, b, sizeof(int)*n*m, cudaMemcpyHostToDevice);\n",
        "    \n",
        "    matrixVector<<<m/256+1, 256>>>(a_dev, b_dev, c_dev, n, m);\n",
        "    \n",
        "    cudaMemcpy(c, c_dev, sizeof(int)*m, cudaMemcpyDeviceToHost);\n",
        "    \n",
        "    cout<<\"Results : \"<<endl;\n",
        "    print_array(c, m);\n",
        "    \n",
        "    cudaFree(a_dev);\n",
        "    cudaFree(b_dev);\n",
        "    cudaFree(c_dev);\n",
        "    \n",
        "    delete[] a;\n",
        "    delete[] b;\n",
        "    delete[] c;\n",
        "    \n",
        "    return 0;\n",
        "}\n",
        "\n",
        "\n",
        "\"\"\""
      ],
      "execution_count": 5,
      "outputs": []
    },
    {
      "cell_type": "code",
      "metadata": {
        "id": "Lcyjz-N3cglR",
        "colab_type": "code",
        "colab": {}
      },
      "source": [
        "text_file = open(\"VecMatMul.cu\", \"w\")\n",
        "text_file.write(code)\n",
        "text_file.close()"
      ],
      "execution_count": 9,
      "outputs": []
    },
    {
      "cell_type": "code",
      "metadata": {
        "id": "SD4gcigpcn9F",
        "colab_type": "code",
        "colab": {}
      },
      "source": [
        "!nvcc matVec.cu\n"
      ],
      "execution_count": 10,
      "outputs": []
    },
    {
      "cell_type": "code",
      "metadata": {
        "id": "4QJdMna2ct5N",
        "colab_type": "code",
        "colab": {
          "base_uri": "https://localhost:8080/",
          "height": 208
        },
        "outputId": "7a228059-35eb-4abd-e4c1-7ca5bd5a6bdb"
      },
      "source": [
        "!./a.out\n"
      ],
      "execution_count": 11,
      "outputs": [
        {
          "output_type": "stream",
          "text": [
            "Initial array : \n",
            "  2  2  1\n",
            "Initial matrix : \n",
            "  2  3  2  2\n",
            "  1  1  2  3\n",
            "  2  3  2  3\n",
            "Initial resultant array : \n",
            "  0  0  0  0\n",
            "\n",
            "Results : \n",
            "  8  11  10  13\n"
          ],
          "name": "stdout"
        }
      ]
    },
    {
      "cell_type": "code",
      "metadata": {
        "id": "Un5cWEg8cuR5",
        "colab_type": "code",
        "colab": {}
      },
      "source": [
        ""
      ],
      "execution_count": null,
      "outputs": []
    }
  ]
}