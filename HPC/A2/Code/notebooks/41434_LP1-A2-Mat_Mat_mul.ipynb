{
  "nbformat": 4,
  "nbformat_minor": 0,
  "metadata": {
    "colab": {
      "name": "Untitled10.ipynb",
      "provenance": []
    },
    "kernelspec": {
      "name": "python3",
      "display_name": "Python 3"
    },
    "accelerator": "GPU"
  },
  "cells": [
    {
      "cell_type": "code",
      "metadata": {
        "id": "oA5DqT5LdMZM",
        "colab_type": "code",
        "colab": {}
      },
      "source": [
        "code=\"\"\"\n",
        "#include<iostream>\n",
        "using namespace std;\n",
        "__global__\n",
        "void matrixMultiplication(int *a, int *b, int *c, int m, int n, int k)\n",
        "{\n",
        "    int row = blockIdx.y*blockDim.y + threadIdx.y;\n",
        "    int col = blockIdx.x*blockDim.x + threadIdx.x;\n",
        "    int sum=0;\n",
        "    if(col<k && row<m) {\n",
        "      for(int j=0;j<n;j++)\n",
        "      {\n",
        "          sum += a[row*n+j] * b[j*k+col];\n",
        "      }\n",
        "      c[k*row+col]=sum;\n",
        "    }\n",
        "    \n",
        "}\n",
        "\n",
        "void init_result(int *a, int m, int k) {\n",
        "    for(int i=0; i<m; i++) {\n",
        "      for(int j=0; j<k; j++) {\n",
        "        a[i*k + j] = 0;\n",
        "      }\n",
        "    }\n",
        "}\n",
        "\n",
        "void init_matrix(int *a, int n, int m) {\n",
        "  srand((unsigned)time(0));\n",
        "    for(int i=0; i<n; i++) {\n",
        "      for(int j=0; j<m; j++) {\n",
        "        a[i*m + j] = rand()%10 + 1;\n",
        "      }\n",
        "    }\n",
        "}\n",
        "\n",
        "void print_matrix(int *a, int n, int m) {\n",
        "    for(int i=0; i<n; i++) {\n",
        "      for(int j=0; j<m; j++) {\n",
        "        cout<<\"  \"<<a[i*m + j];\n",
        "      }\n",
        "      cout<<endl;\n",
        "    }\n",
        "    cout<<endl;\n",
        "}\n",
        "\n",
        "int main()\n",
        "{\n",
        "    \n",
        "    int *a,*b,*c;\n",
        "    int *a_dev,*b_dev,*c_dev;\n",
        "    int m=5, n=4, k=3;\n",
        "    \n",
        "    a = new int[m*n];\n",
        "    b = new int[n*k];\n",
        "    c = new int[m*k];\n",
        "    \n",
        "    init_matrix(a, m, n);\n",
        "    init_matrix(b, n ,k);\n",
        "    init_result(c, m, k);\n",
        "    \n",
        "    cout<<\"Initial matrix : \"<<endl;\n",
        "    \n",
        "    print_matrix(a, m, n);\n",
        "    print_matrix(b, n, k);\n",
        "   // print_matrix(c, m, k);\n",
        "    \n",
        "    cudaMalloc(&a_dev, sizeof(int)*m*n);\n",
        "    cudaMalloc(&b_dev, sizeof(int)*n*k);\n",
        "    cudaMalloc(&c_dev, sizeof(int)*m*k);\n",
        "       \n",
        "    cudaMemcpy(a_dev, a, sizeof(int)*m*n, cudaMemcpyHostToDevice);\n",
        "    cudaMemcpy(b_dev, b, sizeof(int)*n*k, cudaMemcpyHostToDevice);\n",
        "    \n",
        "    dim3 dimGrid(1,1);\n",
        "    dim3 dimBlock(16,16);\n",
        "    \n",
        "    matrixMultiplication<<<dimGrid, dimBlock>>>(a_dev,b_dev,c_dev, m, n, k);\n",
        "     \n",
        "    cudaMemcpy(c, c_dev, sizeof(int)*m*k, cudaMemcpyDeviceToHost);\n",
        "    \n",
        "    cout<<\"Result : \"<<endl;\n",
        "    print_matrix(c, m, k);\n",
        "    \n",
        "    cudaFree(a_dev);\n",
        "    cudaFree(b_dev);\n",
        "    cudaFree(c_dev);\n",
        "    \n",
        "    delete[] a;\n",
        "    delete[] b;\n",
        "    delete[] c;\n",
        "    \n",
        "    return 0;\n",
        "}\n",
        "\"\"\""
      ],
      "execution_count": 9,
      "outputs": []
    },
    {
      "cell_type": "code",
      "metadata": {
        "id": "EBpp_1KLdukg",
        "colab_type": "code",
        "colab": {}
      },
      "source": [
        "text_file = open(\"mat_mat_mult.cu\", \"w\")\n",
        "text_file.write(code)\n",
        "text_file.close()"
      ],
      "execution_count": 10,
      "outputs": []
    },
    {
      "cell_type": "code",
      "metadata": {
        "id": "xxKE_whIdxiF",
        "colab_type": "code",
        "colab": {}
      },
      "source": [
        "!nvcc mat_mat_mult.cu\n"
      ],
      "execution_count": 12,
      "outputs": []
    },
    {
      "cell_type": "code",
      "metadata": {
        "id": "6GjE0j6Md1u-",
        "colab_type": "code",
        "colab": {
          "base_uri": "https://localhost:8080/",
          "height": 347
        },
        "outputId": "f1faac79-219d-4686-e109-94ce6046244f"
      },
      "source": [
        "!./a.out\n"
      ],
      "execution_count": 13,
      "outputs": [
        {
          "output_type": "stream",
          "text": [
            "Initial matrix : \n",
            "  10  9  2  8\n",
            "  2  2  2  7\n",
            "  10  1  3  5\n",
            "  3  2  9  7\n",
            "  6  3  8  10\n",
            "\n",
            "  10  9  2\n",
            "  8  2  2\n",
            "  2  7  10\n",
            "  1  3  5\n",
            "\n",
            "Result : \n",
            "  184  146  98\n",
            "  47  57  63\n",
            "  119  128  77\n",
            "  71  115  135\n",
            "  110  146  148\n",
            "\n"
          ],
          "name": "stdout"
        }
      ]
    },
    {
      "cell_type": "code",
      "metadata": {
        "id": "D7zItmPxd2EQ",
        "colab_type": "code",
        "colab": {}
      },
      "source": [
        ""
      ],
      "execution_count": null,
      "outputs": []
    }
  ]
}