{
  "nbformat": 4,
  "nbformat_minor": 0,
  "metadata": {
    "colab": {
      "name": "LP1-A2-VectorAdd.ipynb",
      "provenance": []
    },
    "kernelspec": {
      "name": "python3",
      "display_name": "Python 3"
    },
    "accelerator": "GPU"
  },
  "cells": [
    {
      "cell_type": "code",
      "metadata": {
        "id": "wvT3LonWZ3kF",
        "colab_type": "code",
        "colab": {}
      },
      "source": [
        "code = \"\"\"\n",
        "#include<iostream>\n",
        "#include<cstdlib>\n",
        "using namespace std;\n",
        "\n",
        "__global__ void vectorAdd(int *a, int *b, int *result, int n) {\n",
        "    int tid = blockIdx.x*blockDim.x + threadIdx.x;\n",
        "    if(tid <= n) {\n",
        "        result[tid] = a[tid] + b[tid];\n",
        "    }\n",
        "}\n",
        "\n",
        "void print_array(int *a, int N) {\n",
        "    for(int i=0; i<N; i++) {\n",
        "        cout<<\"  \"<<a[i];\n",
        "    }\n",
        "    cout<<endl;\n",
        "}\n",
        "\n",
        "void init_array(int *a, int N) {\n",
        "    for(int i=0; i<N; i++) {\n",
        "        a[i] = rand()%10 + 1;\n",
        "    }\n",
        "}\n",
        "\n",
        "int main() {\n",
        "    int *a, *b, *c;\n",
        "    int *a_dev, *b_dev, *c_dev;\n",
        "    int n = 8;           //24\n",
        "    \n",
        "    a = (int*)malloc(n * sizeof(n));\n",
        "    b = (int*)malloc(n * sizeof(n));\n",
        "    c = (int*)malloc(n * sizeof(n));\n",
        "\n",
        "    int size = n * sizeof(int);\n",
        "    \n",
        "    cudaMalloc(&a_dev, size);\n",
        "    cudaMalloc(&b_dev, size);\n",
        "    cudaMalloc(&c_dev, size);\n",
        "    \n",
        "    init_array(a, n);\n",
        "    init_array(b, n);\n",
        "    \n",
        "    print_array(a, n);\n",
        "    print_array(b, n);\n",
        "        \n",
        "    //cudaEvent_t start, end;\n",
        "    //cudaEventCreate(&start);\n",
        "    //cudaEventCreate(&end);\n",
        "    \n",
        "    cudaMemcpy(a_dev, a, size, cudaMemcpyHostToDevice);\n",
        "    cudaMemcpy(b_dev, b, size, cudaMemcpyHostToDevice);\n",
        "    \n",
        "    //int threads = 1024;\n",
        "    //int blocks = (n+threads-1)/threads;\n",
        "    \n",
        "    //cudaEventRecord(start);\n",
        "    \n",
        "    //vectorAdd<<<blocks,threads>>>(a_dev, b_dev, c_dev, n);\n",
        "    vectorAdd<<<1,1024>>>(a_dev, b_dev, c_dev, n);\n",
        "    \n",
        "    //cudaEventRecord(end);\n",
        "    \n",
        "    //cudaDeviceSynchronize();\n",
        "       \n",
        "    //float time = 0.0;\n",
        "    //cudaEventElapsedTime(&time, start, end);\n",
        "    \n",
        "    cudaMemcpy(c, c_dev, size, cudaMemcpyDeviceToHost);\n",
        "    \n",
        "    cout<<\"Results : \"<<endl;\n",
        "    print_array(c, n);\n",
        " \n",
        "    //cout<<\"Time elapsed : \"<<time<<endl;\n",
        "        \n",
        "    cudaFree(a_dev);\n",
        "    cudaFree(b_dev);\n",
        "    cudaFree(c_dev);\n",
        "        \n",
        "    return 0;\n",
        "}\n",
        "\"\"\""
      ],
      "execution_count": 5,
      "outputs": []
    },
    {
      "cell_type": "code",
      "metadata": {
        "id": "E12FhlJSaAcz",
        "colab_type": "code",
        "colab": {}
      },
      "source": [
        "\n",
        "text_file = open(\"assign2.cu\", \"w\")\n",
        "text_file.write(code)\n",
        "text_file.close()"
      ],
      "execution_count": 6,
      "outputs": []
    },
    {
      "cell_type": "code",
      "metadata": {
        "id": "POiAqFNcaA6W",
        "colab_type": "code",
        "colab": {}
      },
      "source": [
        "\n",
        "!nvcc assign2.cu\n"
      ],
      "execution_count": 7,
      "outputs": []
    },
    {
      "cell_type": "code",
      "metadata": {
        "id": "sFNOwEogaCRq",
        "colab_type": "code",
        "colab": {
          "base_uri": "https://localhost:8080/",
          "height": 399
        },
        "outputId": "4529fc8f-c4fa-46f9-f9a9-c7be2685b1b7"
      },
      "source": [
        "!nvprof ./a.out"
      ],
      "execution_count": 8,
      "outputs": [
        {
          "output_type": "stream",
          "text": [
            "==225== NVPROF is profiling process 225, command: ./a.out\n",
            "  4  7  8  6  4  6  7  3\n",
            "  10  2  3  8  1  10  4  7\n",
            "Results : \n",
            "  14  9  11  14  5  16  11  10\n",
            "==225== Profiling application: ./a.out\n",
            "==225== Profiling result:\n",
            "            Type  Time(%)      Time     Calls       Avg       Min       Max  Name\n",
            " GPU activities:   38.74%  3.1360us         1  3.1360us  3.1360us  3.1360us  vectorAdd(int*, int*, int*, int)\n",
            "                   38.34%  3.1040us         2  1.5520us  1.3120us  1.7920us  [CUDA memcpy HtoD]\n",
            "                   22.92%  1.8560us         1  1.8560us  1.8560us  1.8560us  [CUDA memcpy DtoH]\n",
            "      API calls:   99.56%  176.64ms         3  58.879ms  7.3040us  176.62ms  cudaMalloc\n",
            "                    0.21%  369.59us         1  369.59us  369.59us  369.59us  cuDeviceTotalMem\n",
            "                    0.08%  138.55us        97  1.4280us     135ns  58.422us  cuDeviceGetAttribute\n",
            "                    0.07%  119.90us         3  39.967us  7.2080us  98.240us  cudaFree\n",
            "                    0.04%  65.564us         1  65.564us  65.564us  65.564us  cudaLaunchKernel\n",
            "                    0.03%  56.096us         3  18.698us  10.437us  23.262us  cudaMemcpy\n",
            "                    0.02%  29.204us         1  29.204us  29.204us  29.204us  cuDeviceGetName\n",
            "                    0.00%  3.5950us         1  3.5950us  3.5950us  3.5950us  cuDeviceGetPCIBusId\n",
            "                    0.00%  1.5730us         3     524ns     145ns  1.0280us  cuDeviceGetCount\n",
            "                    0.00%  1.0600us         2     530ns     306ns     754ns  cuDeviceGet\n",
            "                    0.00%     269ns         1     269ns     269ns     269ns  cuDeviceGetUuid\n"
          ],
          "name": "stdout"
        }
      ]
    },
    {
      "cell_type": "code",
      "metadata": {
        "id": "EOKJxO5DaDt-",
        "colab_type": "code",
        "colab": {}
      },
      "source": [
        ""
      ],
      "execution_count": null,
      "outputs": []
    }
  ]
}