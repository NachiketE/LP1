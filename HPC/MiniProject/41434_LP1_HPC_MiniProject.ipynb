{
  "nbformat": 4,
  "nbformat_minor": 0,
  "metadata": {
    "colab": {
      "name": "LP1-HPC-MiniProject.ipynb",
      "provenance": []
    },
    "kernelspec": {
      "name": "python3",
      "display_name": "Python 3"
    }
  },
  "cells": [
    {
      "cell_type": "code",
      "metadata": {
        "id": "Dfpf0S6KOZDC"
      },
      "source": [
        "code = \"\"\"\n",
        "#include<iostream>\n",
        "#include<mpi.h>\n",
        "#include<malloc.h>\n",
        "#include<string.h>\n",
        "\n",
        "using namespace std;\n",
        "#define N 20000000\n",
        "char* int_to_char(int x){\n",
        "\tint l = 0;\n",
        "\tfor(int i=x;i>0;i=i/10){\n",
        "\t\tl++;\n",
        "\t}\n",
        "\tchar* res =(char*) malloc(l+1);\n",
        "\tint j =l-1;\n",
        "\tfor(int i=x;i>0;i=i/10){\n",
        "\t\tint d = i%10;\n",
        "\t\tres[j]= '0' + d;\n",
        "\t\tj--;\n",
        "\t}\n",
        "\tres[l] ='\\0';\n",
        "\treturn res;\n",
        "}\n",
        "\n",
        "int char_to_int(char* arr,int start,int &end){\n",
        "\tint ans = 0;\n",
        "\tint i = start;\n",
        "\twhile((int)arr[i]>47 && (int)arr[i]<58){\n",
        "\t\tans = ans*10 + (int)arr[i] - 48;\n",
        "\t\tend++;\n",
        "\t\ti++;\n",
        "\t}\n",
        "\treturn ans;\n",
        "}\n",
        "\n",
        "char* runlength(char* arr,int n)\n",
        "{\n",
        "\tint count = 1;\n",
        "\tchar* totalstring = (char*)malloc(n);\n",
        "\ttotalstring[0]= arr[0];\n",
        "  totalstring[1]='\\0';\n",
        "\tfor(int i=0;i<n;i++){\n",
        "\t\tif(arr[i]==arr[i+1])\n",
        "\t\t\tcount++;\n",
        "\t\telse{\n",
        "\t\t\tstrcat(totalstring,int_to_char(count));\n",
        "\t\t\tint l = strlen(totalstring);\n",
        "\t\t\ttotalstring[l] = arr[i+1];\n",
        "\t\t\ttotalstring[l+1]='\\0';\n",
        "\t\t\tcount = 1;\n",
        "\t\t}\n",
        "\t//\tcout<<totalstring<<endl;\n",
        "\t}\n",
        "  return totalstring;\n",
        "}\n",
        "\n",
        "\n",
        "int main(int argc,char* argv[]){\n",
        "\n",
        "  char *arr;\n",
        "  char *localArray;\n",
        "  int num_elements;\n",
        "  MPI_Init(&argc,&argv);\n",
        "  int pid,num_proc,ierr;\n",
        "  double start,finish;\n",
        "  char* result;\n",
        "  MPI_Status status;\n",
        "\n",
        "  MPI_Comm_rank(MPI_COMM_WORLD,&pid);\n",
        "  MPI_Comm_size(MPI_COMM_WORLD,&num_proc);\n",
        "\n",
        "\n",
        "\n",
        "  if(pid==0){\n",
        "    cout<<\"no of process \"<<num_proc<<endl;\n",
        "    arr = new char[N];\n",
        "    for(int i=0;i<N;i++){\n",
        "      cin>>arr[i];\n",
        "    }\n",
        "\n",
        "\n",
        "\t\tarr[N]='\\0';\n",
        "\n",
        "\n",
        "    num_elements = N/num_proc;\n",
        "\t\tlocalArray = new char[num_elements+1];\n",
        "\t\tlocalArray[num_elements] ='\\0';\n",
        "\t\tstart = MPI_Wtime();\n",
        "    for(int i =1;i<num_proc;i++){\n",
        "    ierr=  MPI_Send(&num_elements,1,MPI_INT,i,0,MPI_COMM_WORLD);\n",
        "    }\n",
        "\n",
        "  }\n",
        "  else{\n",
        "\n",
        "    ierr = MPI_Recv(&num_elements,1,MPI_INT,0,0,MPI_COMM_WORLD,&status);\n",
        "    localArray = new char[num_elements+1];\n",
        "\t\tlocalArray[num_elements] ='\\0';\n",
        "  }\n",
        "\n",
        "  ierr = MPI_Scatter(arr,num_elements, MPI_CHAR, localArray,num_elements, MPI_CHAR,0, MPI_COMM_WORLD);\n",
        "\n",
        "\n",
        "  result=runlength(localArray,num_elements);\n",
        "\n",
        "//\tcout<<pid<<\" \"<<result<<endl;\n",
        "\n",
        "\n",
        "const int root = 0;\n",
        "int *recvcounts = NULL;\n",
        "int mylen = strlen(result);\n",
        "\n",
        "if (pid == root)\n",
        "\t\trecvcounts =(int*) malloc( num_proc * sizeof(int)) ;\n",
        "\n",
        "MPI_Gather(&mylen, 1, MPI_INT,\n",
        "\t\t\t\t\t recvcounts, 1, MPI_INT,\n",
        "\t\t\t\t\t root, MPI_COMM_WORLD);\n",
        "\n",
        "int totlen = 0;\n",
        "int *displs = NULL;\n",
        "char *totalstring = NULL;\n",
        "\n",
        "if (pid == root) {\n",
        "\t\tdispls = (int*)malloc( num_proc * sizeof(int) );\n",
        "\n",
        "\t\tdispls[0] = 0;\n",
        "\t\ttotlen += recvcounts[0]+1;// + 1 for '\\0'\n",
        "\n",
        "\t\tfor (int i=1; i<num_proc; i++) {\n",
        "\t\t\t totlen += recvcounts[i];\n",
        "\t\t\t displs[i] = displs[i-1] + recvcounts[i-1];\n",
        "\t\t}\n",
        "\n",
        "\t\ttotalstring =(char*) malloc(totlen * sizeof(char));\n",
        "\t\tfor (int i=0; i<totlen-1; i++)\n",
        "\t\t\t\ttotalstring[i] = ' ';\n",
        "\t\ttotalstring[totlen-1] = '\\0';\n",
        "}\n",
        "\n",
        "MPI_Gatherv(result, mylen, MPI_CHAR,\n",
        "\t\t\t\t\t\ttotalstring, recvcounts, displs, MPI_CHAR,\n",
        "\t\t\t\t\t\troot, MPI_COMM_WORLD);\n",
        "\n",
        "\n",
        "if (pid == root) {\n",
        "\t//\tcout<<totalstring;\n",
        "\n",
        "\t\tchar* res = (char*)malloc(totlen-1);\n",
        "\t\t//int count = (int)totalstring[1] - 48;\n",
        "\t\tint end = 0;\n",
        "\t\tint count = char_to_int(totalstring,1,end);\n",
        "\t\tint prev = 0;\n",
        "\t\tint i = end + 1;\n",
        "\t\tres[0]=totalstring[0];\n",
        "\t\tres[1]='\\0';\n",
        "\t\twhile(i<totlen){\n",
        "\t\t\tif(totalstring[prev]==totalstring[i]){\n",
        "\t\t\t\t//count = count + (int)totalstring[i+3] - 48;\n",
        "\t\t\t\tend = 0;\n",
        "\t\t\t\tcount = count + char_to_int(totalstring,i+1,end);\n",
        "\t\t\t\tprev = i;\n",
        "\t\t\t\ti=end+1+i;\n",
        "\n",
        "\t\t\t//\tcout<<count<<endl;\n",
        "\t\t\t}else{\n",
        "\t\t\t\tstrcat(res,int_to_char(count));\n",
        "\t\t\t\tint l = strlen(res);\n",
        "\t\t\t\tend = 0;\n",
        "\t\t\t\tcount = char_to_int(totalstring,i+1,end);\n",
        "\t\t\t\tprev = i;\n",
        "\t\t\t\ti = end+1+i;\n",
        "\t\t\t\tres[l]=totalstring[prev];\n",
        "\t\t\t\tres[l+1]='\\0';\n",
        "\t\t\t}\n",
        "\n",
        "\t\t}\n",
        "\t\tcout<<\"parallel result \"<<res<<endl;\n",
        "\t\tfinish = MPI_Wtime();\n",
        "\t\tdouble pt = (finish-start);\n",
        "\t\tcout<<\"parallel time: \"<<pt*1000<<\"ms\"<<endl;\n",
        "\t//\tfree(totalstring);\n",
        "\t\t//free(displs);\n",
        "\t//\tfree(recvcounts);\n",
        "\t//\tfree(localArray);\n",
        "\n",
        "\t\ti++;\n",
        "\t\tstart = MPI_Wtime();\n",
        "\t\t//serial calulation\n",
        "\t\tresult = runlength(arr,N);\n",
        "\t\tcout<<\"serial result \"<<result<<endl;\n",
        "\n",
        "\t\tfinish = MPI_Wtime();\n",
        "\t\tdouble st = (finish-start);\n",
        "\t\tcout<<\"serial time: \"<<st*1000<<\"ms\"<<endl;\n",
        "\t\tcout<<\"speedup: \"<<st/pt<<endl;\n",
        "\t\tcout<<\"efficiency: \"<<(st/pt)/num_proc<<endl;\n",
        "}\n",
        "  MPI_Finalize();\n",
        "  return 0;\n",
        "}\n",
        "\"\"\""
      ],
      "execution_count": 1,
      "outputs": []
    },
    {
      "cell_type": "code",
      "metadata": {
        "id": "9YWsh6vIOi3X"
      },
      "source": [
        "file_ = open(\"MiniProject.c\", \"w\");\n",
        "file_.write(code);\n",
        "file_.close();"
      ],
      "execution_count": 2,
      "outputs": []
    },
    {
      "cell_type": "code",
      "metadata": {
        "colab": {
          "base_uri": "https://localhost:8080/"
        },
        "id": "aACmC3_3OwoF",
        "outputId": "e4a1d2b5-0b8f-46b6-c185-0321a84d1a14"
      },
      "source": [
        "!mpiCC MiniProject.c\n"
      ],
      "execution_count": 3,
      "outputs": [
        {
          "output_type": "stream",
          "text": [
            "\u001b[01m\u001b[KMiniProject.c:21:10:\u001b[m\u001b[K \u001b[01;35m\u001b[Kwarning: \u001b[m\u001b[Knull character(s) preserved in literal\n",
            "  res[l] =\u001b[01;35m\u001b[K'\u001b[m\u001b[K ';\n",
            "          \u001b[01;35m\u001b[K^\u001b[m\u001b[K\n",
            "\u001b[01m\u001b[KMiniProject.c:41:18:\u001b[m\u001b[K \u001b[01;35m\u001b[Kwarning: \u001b[m\u001b[Knull character(s) preserved in literal\n",
            "   totalstring[1]=\u001b[01;35m\u001b[K'\u001b[m\u001b[K ';\n",
            "                  \u001b[01;35m\u001b[K^\u001b[m\u001b[K\n",
            "\u001b[01m\u001b[KMiniProject.c:49:21:\u001b[m\u001b[K \u001b[01;35m\u001b[Kwarning: \u001b[m\u001b[Knull character(s) preserved in literal\n",
            "    totalstring[l+1]=\u001b[01;35m\u001b[K'\u001b[m\u001b[K ';\n",
            "                     \u001b[01;35m\u001b[K^\u001b[m\u001b[K\n",
            "\u001b[01m\u001b[KMiniProject.c:82:10:\u001b[m\u001b[K \u001b[01;35m\u001b[Kwarning: \u001b[m\u001b[Knull character(s) preserved in literal\n",
            "   arr[N]=\u001b[01;35m\u001b[K'\u001b[m\u001b[K ';\n",
            "          \u001b[01;35m\u001b[K^\u001b[m\u001b[K\n",
            "\u001b[01m\u001b[KMiniProject.c:87:29:\u001b[m\u001b[K \u001b[01;35m\u001b[Kwarning: \u001b[m\u001b[Knull character(s) preserved in literal\n",
            "   localArray[num_elements] =\u001b[01;35m\u001b[K'\u001b[m\u001b[K ';\n",
            "                             \u001b[01;35m\u001b[K^\u001b[m\u001b[K\n",
            "\u001b[01m\u001b[KMiniProject.c:98:29:\u001b[m\u001b[K \u001b[01;35m\u001b[Kwarning: \u001b[m\u001b[Knull character(s) preserved in literal\n",
            "   localArray[num_elements] =\u001b[01;35m\u001b[K'\u001b[m\u001b[K ';\n",
            "                             \u001b[01;35m\u001b[K^\u001b[m\u001b[K\n",
            "\u001b[01m\u001b[KMiniProject.c:138:27:\u001b[m\u001b[K \u001b[01;35m\u001b[Kwarning: \u001b[m\u001b[Knull character(s) preserved in literal\n",
            "   totalstring[totlen-1] = \u001b[01;35m\u001b[K'\u001b[m\u001b[K ';\n",
            "                           \u001b[01;35m\u001b[K^\u001b[m\u001b[K\n",
            "\u001b[01m\u001b[KMiniProject.c:156:10:\u001b[m\u001b[K \u001b[01;35m\u001b[Kwarning: \u001b[m\u001b[Knull character(s) preserved in literal\n",
            "   res[1]=\u001b[01;35m\u001b[K'\u001b[m\u001b[K ';\n",
            "          \u001b[01;35m\u001b[K^\u001b[m\u001b[K\n",
            "\u001b[01m\u001b[KMiniProject.c:174:14:\u001b[m\u001b[K \u001b[01;35m\u001b[Kwarning: \u001b[m\u001b[Knull character(s) preserved in literal\n",
            "     res[l+1]=\u001b[01;35m\u001b[K'\u001b[m\u001b[K ';\n",
            "              \u001b[01;35m\u001b[K^\u001b[m\u001b[K\n"
          ],
          "name": "stdout"
        }
      ]
    },
    {
      "cell_type": "code",
      "metadata": {
        "colab": {
          "base_uri": "https://localhost:8080/"
        },
        "id": "2h-Ox5P0OztN",
        "outputId": "29fac387-0940-420e-82ba-422b045bca91"
      },
      "source": [
        "!mpirun --allow-run-as-root -np 2 ./a.out < input.txt\n"
      ],
      "execution_count": 9,
      "outputs": [
        {
          "output_type": "stream",
          "text": [
            "no of process 2\n",
            "parallel result H1e1l2o1W1o1r1l1d1H1e1l2o1W1o1r1l1d1H1e1l2o1W1o1r1l1d1H1e1l2o1W1o1r1l1d1H1e1l2o1W1o1r1l1d1H1e1l2o1W1o1r1l1d1H1e1l2o1W1o1r1l1d1H1e1l2o1W1o1r1l1d1H1e1l2o1W1o1r1l1d1H1e1l2o1W1o1r1l1d1H1e1l2o1W1o1r1l1d1H1e1l2o1W1o1r1l1d1H1e1l2o1W1o1r1l1d1H1e1l2o1W1o1r1l1d1H1e1l2o1W1o1r1l1d1H1e1l2o1W1o1r1l1d1H1e1l2o1W1o1r1l1d1H1e1l2o1W1o1r1l1d1H1e1l2o1W1o1r1l1d1H1e1l2o1W1o1r1l1d1H1e1l2o1W1o1r1l1d1H1e1l2o1W1o1r1l1d1H1e1l2o1W1o1r1l1d1H1e1l2o1W1o1r1l1d1H1e1l2o1W1o1r1l1d1H1e1l2o1W1o1r1l1d1H1e1l2o1W1o1r1l1d1H1e1l2o1W1o1r1l1d1H1e1l2o1W1o1r1l1d1H1e1l2o1W1o1r1l1d1H1e1l2o1W1o1r1l1d1H1e1l2o1W1o1r1l1d1H1e1l2o1W1o1r1l1d1H1e1l2o1W1o1r1l1d1H1e1l2o1W1o1r1l1d1H1e1l2o1W1o1r1l1d1H1e1l2o1W1o1r1l1d1H1e1l2o1W1o1r1l1d1H1e1l2o1W1o1r1l1d1H1e1l2o1W1o1r1l1d1H1e1l2o1W1o1r1l1d1H1e1l2o1W1o1r1l1d1H1e1l2o1W1o1r1l1d1H1e1l2o1W1o1r1l1d1H1e1l2o1W1o1r1l1d1H1e1l2o1W1o1r1l1d1H1e1l2o1W1o1r1l1d1H1e1l2o1W1o1r1l1d1H1e1l2o1W1o1r1l1d1H1e1l2o1W1o1r1l1d1H1e1l2o1W1o1r1l1d1H1e1l2o1W1o1r1l1d1H1e1l2o1W1o1r1l1d1H1e1l2o1W1o1r1l1d1H1e1l2o1W1o1r1l1d1H1e1l2o1W1o1r1l1d1H1e1l2o1W1o1r1l1d1H1e1l2o1W1o1r1l1d1H1e1l2o1W1o1r1l1d1H1e1l2o1W1o1r1l1d1H1e1l2o1W1o1r1l1d1H1e1l2o1W1o1r1l1d1H1e1l2o1W1o1r1l1d1H1e1l2o1W1o1r1l1d1H1e1l2o1W1o1r1l1d1H1e1l2o1W1o1r1l1d1H1e1l2o1W1o1r1l1d1H1e1l2o1W1o1r1l1d1H1e1l2o1W1o1r1l1d1H1e1l2o1W1o1r1l1d1H1e1l2o1W1o1r1l1d1H1e1l2o1W1o1r1l1d1H1e1l2o1W1o1r1l1d1H1e1l2o1W1o1r1l1d1H1e1l2o1W1o1r1l1d1H1e1l2o1W1o1r1l1d1H1e1l2o1W1o1r1l1d1H1e1l2o1W1o1r1l1d1H1e1l2o1W1o1r1l1d1H1e1l2o1W1o1r1l1d1H1e1l2o1W1o1r1l1d1H1e1l2o1W1o1r1l1d1H1e1l2o1W1o1r1l1d1H1e1l2o1W1o1r1l1d1H1e1l2o1W1o1r1l1d1H1e1l2o1W1o1r1l1d1H1e1l2o1W1o1r1l1d1H1e1l2o1W1o1r1l1d1H1e1l2o1W1o1r1l1d1H1e1l2o1W1o1r1l1d1H1e1l2o1W1o1r1l1d1H1e1l2o1W1o1r1l1d1H1e1l2o1W1o1r1l1d1H1e1l2o1W1o1r1l1d1H1e1l2o1W1o1r1l1d1H1e1l2o1W1o1r1l1d1H1e1l2o1W1o1r1l1d1H1e1l2o1W1o1r1l1d1H1e1l2o1W1o1r1l1d1H1e1l2o1W1o1r1l1d1\n",
            "parallel time: 157.191ms\n",
            "serial result H1e1l2o1W1o1r1l1d1H1e1l2o1W1o1r1l1d1H1e1l2o1W1o1r1l1d1H1e1l2o1W1o1r1l1d1H1e1l2o1W1o1r1l1d1H1e1l2o1W1o1r1l1d1H1e1l2o1W1o1r1l1d1H1e1l2o1W1o1r1l1d1H1e1l2o1W1o1r1l1d1H1e1l2o1W1o1r1l1d1H1e1l2o1W1o1r1l1d1H1e1l2o1W1o1r1l1d1H1e1l2o1W1o1r1l1d1H1e1l2o1W1o1r1l1d1H1e1l2o1W1o1r1l1d1H1e1l2o1W1o1r1l1d1H1e1l2o1W1o1r1l1d1H1e1l2o1W1o1r1l1d1H1e1l2o1W1o1r1l1d1H1e1l2o1W1o1r1l1d1H1e1l2o1W1o1r1l1d1H1e1l2o1W1o1r1l1d1H1e1l2o1W1o1r1l1d1H1e1l2o1W1o1r1l1d1H1e1l2o1W1o1r1l1d1H1e1l2o1W1o1r1l1d1H1e1l2o1W1o1r1l1d1H1e1l2o1W1o1r1l1d1H1e1l2o1W1o1r1l1d1H1e1l2o1W1o1r1l1d1H1e1l2o1W1o1r1l1d1H1e1l2o1W1o1r1l1d1H1e1l2o1W1o1r1l1d1H1e1l2o1W1o1r1l1d1H1e1l2o1W1o1r1l1d1H1e1l2o1W1o1r1l1d1H1e1l2o1W1o1r1l1d1H1e1l2o1W1o1r1l1d1H1e1l2o1W1o1r1l1d1H1e1l2o1W1o1r1l1d1H1e1l2o1W1o1r1l1d1H1e1l2o1W1o1r1l1d1H1e1l2o1W1o1r1l1d1H1e1l2o1W1o1r1l1d1H1e1l2o1W1o1r1l1d1H1e1l2o1W1o1r1l1d1H1e1l2o1W1o1r1l1d1H1e1l2o1W1o1r1l1d1H1e1l2o1W1o1r1l1d1H1e1l2o1W1o1r1l1d1H1e1l2o1W1o1r1l1d1H1e1l2o1W1o1r1l1d1H1e1l2o1W1o1r1l1d1H1e1l2o1W1o1r1l1d1H1e1l2o1W1o1r1l1d1H1e1l2o1W1o1r1l1d1H1e1l2o1W1o1r1l1d1H1e1l2o1W1o1r1l1d1H1e1l2o1W1o1r1l1d1H1e1l2o1W1o1r1l1d1H1e1l2o1W1o1r1l1d1H1e1l2o1W1o1r1l1d1H1e1l2o1W1o1r1l1d1H1e1l2o1W1o1r1l1d1H1e1l2o1W1o1r1l1d1H1e1l2o1W1o1r1l1d1H1e1l2o1W1o1r1l1d1H1e1l2o1W1o1r1l1d1H1e1l2o1W1o1r1l1d1H1e1l2o1W1o1r1l1d1H1e1l2o1W1o1r1l1d1H1e1l2o1W1o1r1l1d1H1e1l2o1W1o1r1l1d1H1e1l2o1W1o1r1l1d1H1e1l2o1W1o1r1l1d1H1e1l2o1W1o1r1l1d1H1e1l2o1W1o1r1l1d1H1e1l2o1W1o1r1l1d1H1e1l2o1W1o1r1l1d1H1e1l2o1W1o1r1l1d1H1e1l2o1W1o1r1l1d1H1e1l2o1W1o1r1l1d1H1e1l2o1W1o1r1l1d1H1e1l2o1W1o1r1l1d1H1e1l2o1W1o1r1l1d1H1e1l2o1W1o1r1l1d1H1e1l2o1W1o1r1l1d1H1e1l2o1W1o1r1l1d1H1e1l2o1W1o1r1l1d1H1e1l2o1W1o1r1l1d1H1e1l2o1W1o1r1l1d1H1e1l2o1W1o1r1l1d1H1e1l2o1W1o1r1l1d1H1e1l2o1W1o1r1l1d1H1e1l2o1W1o1r1l1d1H1e1l2o1W1o1r1l1d1H1e1l2o1W1o1r1l1d1H1e1l2o1W1o1r1l1d1H1e1l2o1W1o1r1l1d1H1e1l2o1W1o1r1l1d1\n",
            "serial time: 161.713ms\n",
            "speedup: 1.02876\n",
            "efficiency: 0.514382\n"
          ],
          "name": "stdout"
        }
      ]
    },
    {
      "cell_type": "code",
      "metadata": {
        "colab": {
          "base_uri": "https://localhost:8080/"
        },
        "id": "XdkjNTG_O2kI",
        "outputId": "c8a866de-4648-4471-b516-149fc21990af"
      },
      "source": [
        "!mpirun --allow-run-as-root -np 4 ./a.out < input.txt\n"
      ],
      "execution_count": 10,
      "outputs": [
        {
          "output_type": "stream",
          "text": [
            "no of process 4\n",
            "parallel result H1e1l2o1W1o1r1l1d1H1e1l2o1W1o1r1l1d1H1e1l2o1W1o1r1l1d1H1e1l2o1W1o1r1l1d1H1e1l2o1W1o1r1l1d1H1e1l2o1W1o1r1l1d1H1e1l2o1W1o1r1l1d1H1e1l2o1W1o1r1l1d1H1e1l2o1W1o1r1l1d1H1e1l2o1W1o1r1l1d1H1e1l2o1W1o1r1l1d1H1e1l2o1W1o1r1l1d1H1e1l2o1W1o1r1l1d1H1e1l2o1W1o1r1l1d1H1e1l2o1W1o1r1l1d1H1e1l2o1W1o1r1l1d1H1e1l2o1W1o1r1l1d1H1e1l2o1W1o1r1l1d1H1e1l2o1W1o1r1l1d1H1e1l2o1W1o1r1l1d1H1e1l2o1W1o1r1l1d1H1e1l2o1W1o1r1l1d1H1e1l2o1W1o1r1l1d1H1e1l2o1W1o1r1l1d1H1e1l2o1W1o1r1l1d1H1e1l2o1W1o1r1l1d1H1e1l2o1W1o1r1l1d1H1e1l2o1W1o1r1l1d1H1e1l2o1W1o1r1l1d1H1e1l2o1W1o1r1l1d1H1e1l2o1W1o1r1l1d1H1e1l2o1W1o1r1l1d1H1e1l2o1W1o1r1l1d1H1e1l2o1W1o1r1l1d1H1e1l2o1W1o1r1l1d1H1e1l2o1W1o1r1l1d1H1e1l2o1W1o1r1l1d1H1e1l2o1W1o1r1l1d1H1e1l2o1W1o1r1l1d1H1e1l2o1W1o1r1l1d1H1e1l2o1W1o1r1l1d1H1e1l2o1W1o1r1l1d1H1e1l2o1W1o1r1l1d1H1e1l2o1W1o1r1l1d1H1e1l2o1W1o1r1l1d1H1e1l2o1W1o1r1l1d1H1e1l2o1W1o1r1l1d1H1e1l2o1W1o1r1l1d1H1e1l2o1W1o1r1l1d1H1e1l2o1W1o1r1l1d1H1e1l2o1W1o1r1l1d1H1e1l2o1W1o1r1l1d1H1e1l2o1W1o1r1l1d1H1e1l2o1W1o1r1l1d1H1e1l2o1W1o1r1l1d1H1e1l2o1W1o1r1l1d1H1e1l2o1W1o1r1l1d1H1e1l2o1W1o1r1l1d1H1e1l2o1W1o1r1l1d1H1e1l2o1W1o1r1l1d1H1e1l2o1W1o1r1l1d1H1e1l2o1W1o1r1l1d1H1e1l2o1W1o1r1l1d1H1e1l2o1W1o1r1l1d1H1e1l2o1W1o1r1l1d1H1e1l2o1W1o1r1l1d1H1e1l2o1W1o1r1l1d1H1e1l2o1W1o1r1l1d1H1e1l2o1W1o1r1l1d1H1e1l2o1W1o1r1l1d1H1e1l2o1W1o1r1l1d1H1e1l2o1W1o1r1l1d1H1e1l2o1W1o1r1l1d1H1e1l2o1W1o1r1l1d1H1e1l2o1W1o1r1l1d1H1e1l2o1W1o1r1l1d1H1e1l2o1W1o1r1l1d1H1e1l2o1W1o1r1l1d1H1e1l2o1W1o1r1l1d1H1e1l2o1W1o1r1l1d1H1e1l2o1W1o1r1l1d1H1e1l2o1W1o1r1l1d1H1e1l2o1W1o1r1l1d1H1e1l2o1W1o1r1l1d1H1e1l2o1W1o1r1l1d1H1e1l2o1W1o1r1l1d1H1e1l2o1W1o1r1l1d1H1e1l2o1W1o1r1l1d1H1e1l2o1W1o1r1l1d1H1e1l2o1W1o1r1l1d1H1e1l2o1W1o1r1l1d1H1e1l2o1W1o1r1l1d1H1e1l2o1W1o1r1l1d1H1e1l2o1W1o1r1l1d1H1e1l2o1W1o1r1l1d1H1e1l2o1W1o1r1l1d1H1e1l2o1W1o1r1l1d1H1e1l2o1W1o1r1l1d1H1e1l2o1W1o1r1l1d1H1e1l2o1W1o1r1l1d1\n",
            "parallel time: 102.038ms\n",
            "serial result H1e1l2o1W1o1r1l1d1H1e1l2o1W1o1r1l1d1H1e1l2o1W1o1r1l1d1H1e1l2o1W1o1r1l1d1H1e1l2o1W1o1r1l1d1H1e1l2o1W1o1r1l1d1H1e1l2o1W1o1r1l1d1H1e1l2o1W1o1r1l1d1H1e1l2o1W1o1r1l1d1H1e1l2o1W1o1r1l1d1H1e1l2o1W1o1r1l1d1H1e1l2o1W1o1r1l1d1H1e1l2o1W1o1r1l1d1H1e1l2o1W1o1r1l1d1H1e1l2o1W1o1r1l1d1H1e1l2o1W1o1r1l1d1H1e1l2o1W1o1r1l1d1H1e1l2o1W1o1r1l1d1H1e1l2o1W1o1r1l1d1H1e1l2o1W1o1r1l1d1H1e1l2o1W1o1r1l1d1H1e1l2o1W1o1r1l1d1H1e1l2o1W1o1r1l1d1H1e1l2o1W1o1r1l1d1H1e1l2o1W1o1r1l1d1H1e1l2o1W1o1r1l1d1H1e1l2o1W1o1r1l1d1H1e1l2o1W1o1r1l1d1H1e1l2o1W1o1r1l1d1H1e1l2o1W1o1r1l1d1H1e1l2o1W1o1r1l1d1H1e1l2o1W1o1r1l1d1H1e1l2o1W1o1r1l1d1H1e1l2o1W1o1r1l1d1H1e1l2o1W1o1r1l1d1H1e1l2o1W1o1r1l1d1H1e1l2o1W1o1r1l1d1H1e1l2o1W1o1r1l1d1H1e1l2o1W1o1r1l1d1H1e1l2o1W1o1r1l1d1H1e1l2o1W1o1r1l1d1H1e1l2o1W1o1r1l1d1H1e1l2o1W1o1r1l1d1H1e1l2o1W1o1r1l1d1H1e1l2o1W1o1r1l1d1H1e1l2o1W1o1r1l1d1H1e1l2o1W1o1r1l1d1H1e1l2o1W1o1r1l1d1H1e1l2o1W1o1r1l1d1H1e1l2o1W1o1r1l1d1H1e1l2o1W1o1r1l1d1H1e1l2o1W1o1r1l1d1H1e1l2o1W1o1r1l1d1H1e1l2o1W1o1r1l1d1H1e1l2o1W1o1r1l1d1H1e1l2o1W1o1r1l1d1H1e1l2o1W1o1r1l1d1H1e1l2o1W1o1r1l1d1H1e1l2o1W1o1r1l1d1H1e1l2o1W1o1r1l1d1H1e1l2o1W1o1r1l1d1H1e1l2o1W1o1r1l1d1H1e1l2o1W1o1r1l1d1H1e1l2o1W1o1r1l1d1H1e1l2o1W1o1r1l1d1H1e1l2o1W1o1r1l1d1H1e1l2o1W1o1r1l1d1H1e1l2o1W1o1r1l1d1H1e1l2o1W1o1r1l1d1H1e1l2o1W1o1r1l1d1H1e1l2o1W1o1r1l1d1H1e1l2o1W1o1r1l1d1H1e1l2o1W1o1r1l1d1H1e1l2o1W1o1r1l1d1H1e1l2o1W1o1r1l1d1H1e1l2o1W1o1r1l1d1H1e1l2o1W1o1r1l1d1H1e1l2o1W1o1r1l1d1H1e1l2o1W1o1r1l1d1H1e1l2o1W1o1r1l1d1H1e1l2o1W1o1r1l1d1H1e1l2o1W1o1r1l1d1H1e1l2o1W1o1r1l1d1H1e1l2o1W1o1r1l1d1H1e1l2o1W1o1r1l1d1H1e1l2o1W1o1r1l1d1H1e1l2o1W1o1r1l1d1H1e1l2o1W1o1r1l1d1H1e1l2o1W1o1r1l1d1H1e1l2o1W1o1r1l1d1H1e1l2o1W1o1r1l1d1H1e1l2o1W1o1r1l1d1H1e1l2o1W1o1r1l1d1H1e1l2o1W1o1r1l1d1H1e1l2o1W1o1r1l1d1H1e1l2o1W1o1r1l1d1H1e1l2o1W1o1r1l1d1H1e1l2o1W1o1r1l1d1H1e1l2o1W1o1r1l1d1H1e1l2o1W1o1r1l1d1\n",
            "serial time: 113.78ms\n",
            "speedup: 1.11507\n",
            "efficiency: 0.278767\n"
          ],
          "name": "stdout"
        }
      ]
    },
    {
      "cell_type": "code",
      "metadata": {
        "colab": {
          "base_uri": "https://localhost:8080/"
        },
        "id": "tBqOR_6XQPZR",
        "outputId": "c69fe838-398d-4f0a-b274-b97f0be9972e"
      },
      "source": [
        "!mpirun --allow-run-as-root -np 8 ./a.out < input.txt\n"
      ],
      "execution_count": 11,
      "outputs": [
        {
          "output_type": "stream",
          "text": [
            "no of process 8\n",
            "parallel result H1e1l2o1W1o1r1l1d1H1e1l2o1W1o1r1l1d1H1e1l2o1W1o1r1l1d1H1e1l2o1W1o1r1l1d1H1e1l2o1W1o1r1l1d1H1e1l2o1W1o1r1l1d1H1e1l2o1W1o1r1l1d1H1e1l2o1W1o1r1l1d1H1e1l2o1W1o1r1l1d1H1e1l2o1W1o1r1l1d1H1e1l2o1W1o1r1l1d1H1e1l2o1W1o1r1l1d1H1e1l2o1W1o1r1l1d1H1e1l2o1W1o1r1l1d1H1e1l2o1W1o1r1l1d1H1e1l2o1W1o1r1l1d1H1e1l2o1W1o1r1l1d1H1e1l2o1W1o1r1l1d1H1e1l2o1W1o1r1l1d1H1e1l2o1W1o1r1l1d1H1e1l2o1W1o1r1l1d1H1e1l2o1W1o1r1l1d1H1e1l2o1W1o1r1l1d1H1e1l2o1W1o1r1l1d1H1e1l2o1W1o1r1l1d1H1e1l2o1W1o1r1l1d1H1e1l2o1W1o1r1l1d1H1e1l2o1W1o1r1l1d1H1e1l2o1W1o1r1l1d1H1e1l2o1W1o1r1l1d1H1e1l2o1W1o1r1l1d1H1e1l2o1W1o1r1l1d1H1e1l2o1W1o1r1l1d1H1e1l2o1W1o1r1l1d1H1e1l2o1W1o1r1l1d1H1e1l2o1W1o1r1l1d1H1e1l2o1W1o1r1l1d1H1e1l2o1W1o1r1l1d1H1e1l2o1W1o1r1l1d1H1e1l2o1W1o1r1l1d1H1e1l2o1W1o1r1l1d1H1e1l2o1W1o1r1l1d1H1e1l2o1W1o1r1l1d1H1e1l2o1W1o1r1l1d1H1e1l2o1W1o1r1l1d1H1e1l2o1W1o1r1l1d1H1e1l2o1W1o1r1l1d1H1e1l2o1W1o1r1l1d1H1e1l2o1W1o1r1l1d1H1e1l2o1W1o1r1l1d1H1e1l2o1W1o1r1l1d1H1e1l2o1W1o1r1l1d1H1e1l2o1W1o1r1l1d1H1e1l2o1W1o1r1l1d1H1e1l2o1W1o1r1l1d1H1e1l2o1W1o1r1l1d1H1e1l2o1W1o1r1l1d1H1e1l2o1W1o1r1l1d1H1e1l2o1W1o1r1l1d1H1e1l2o1W1o1r1l1d1H1e1l2o1W1o1r1l1d1H1e1l2o1W1o1r1l1d1H1e1l2o1W1o1r1l1d1H1e1l2o1W1o1r1l1d1H1e1l2o1W1o1r1l1d1H1e1l2o1W1o1r1l1d1H1e1l2o1W1o1r1l1d1H1e1l2o1W1o1r1l1d1H1e1l2o1W1o1r1l1d1H1e1l2o1W1o1r1l1d1H1e1l2o1W1o1r1l1d1H1e1l2o1W1o1r1l1d1H1e1l2o1W1o1r1l1d1H1e1l2o1W1o1r1l1d1H1e1l2o1W1o1r1l1d1H1e1l2o1W1o1r1l1d1H1e1l2o1W1o1r1l1d1H1e1l2o1W1o1r1l1d1H1e1l2o1W1o1r1l1d1H1e1l2o1W1o1r1l1d1H1e1l2o1W1o1r1l1d1H1e1l2o1W1o1r1l1d1H1e1l2o1W1o1r1l1d1H1e1l2o1W1o1r1l1d1H1e1l2o1W1o1r1l1d1H1e1l2o1W1o1r1l1d1H1e1l2o1W1o1r1l1d1H1e1l2o1W1o1r1l1d1H1e1l2o1W1o1r1l1d1H1e1l2o1W1o1r1l1d1H1e1l2o1W1o1r1l1d1H1e1l2o1W1o1r1l1d1H1e1l2o1W1o1r1l1d1H1e1l2o1W1o1r1l1d1H1e1l2o1W1o1r1l1d1H1e1l2o1W1o1r1l1d1H1e1l2o1W1o1r1l1d1H1e1l2o1W1o1r1l1d1H1e1l2o1W1o1r1l1d1H1e1l2o1W1o1r1l1d1\n",
            "parallel time: 188.654ms\n",
            "serial result H1e1l2o1W1o1r1l1d1H1e1l2o1W1o1r1l1d1H1e1l2o1W1o1r1l1d1H1e1l2o1W1o1r1l1d1H1e1l2o1W1o1r1l1d1H1e1l2o1W1o1r1l1d1H1e1l2o1W1o1r1l1d1H1e1l2o1W1o1r1l1d1H1e1l2o1W1o1r1l1d1H1e1l2o1W1o1r1l1d1H1e1l2o1W1o1r1l1d1H1e1l2o1W1o1r1l1d1H1e1l2o1W1o1r1l1d1H1e1l2o1W1o1r1l1d1H1e1l2o1W1o1r1l1d1H1e1l2o1W1o1r1l1d1H1e1l2o1W1o1r1l1d1H1e1l2o1W1o1r1l1d1H1e1l2o1W1o1r1l1d1H1e1l2o1W1o1r1l1d1H1e1l2o1W1o1r1l1d1H1e1l2o1W1o1r1l1d1H1e1l2o1W1o1r1l1d1H1e1l2o1W1o1r1l1d1H1e1l2o1W1o1r1l1d1H1e1l2o1W1o1r1l1d1H1e1l2o1W1o1r1l1d1H1e1l2o1W1o1r1l1d1H1e1l2o1W1o1r1l1d1H1e1l2o1W1o1r1l1d1H1e1l2o1W1o1r1l1d1H1e1l2o1W1o1r1l1d1H1e1l2o1W1o1r1l1d1H1e1l2o1W1o1r1l1d1H1e1l2o1W1o1r1l1d1H1e1l2o1W1o1r1l1d1H1e1l2o1W1o1r1l1d1H1e1l2o1W1o1r1l1d1H1e1l2o1W1o1r1l1d1H1e1l2o1W1o1r1l1d1H1e1l2o1W1o1r1l1d1H1e1l2o1W1o1r1l1d1H1e1l2o1W1o1r1l1d1H1e1l2o1W1o1r1l1d1H1e1l2o1W1o1r1l1d1H1e1l2o1W1o1r1l1d1H1e1l2o1W1o1r1l1d1H1e1l2o1W1o1r1l1d1H1e1l2o1W1o1r1l1d1H1e1l2o1W1o1r1l1d1H1e1l2o1W1o1r1l1d1H1e1l2o1W1o1r1l1d1H1e1l2o1W1o1r1l1d1H1e1l2o1W1o1r1l1d1H1e1l2o1W1o1r1l1d1H1e1l2o1W1o1r1l1d1H1e1l2o1W1o1r1l1d1H1e1l2o1W1o1r1l1d1H1e1l2o1W1o1r1l1d1H1e1l2o1W1o1r1l1d1H1e1l2o1W1o1r1l1d1H1e1l2o1W1o1r1l1d1H1e1l2o1W1o1r1l1d1H1e1l2o1W1o1r1l1d1H1e1l2o1W1o1r1l1d1H1e1l2o1W1o1r1l1d1H1e1l2o1W1o1r1l1d1H1e1l2o1W1o1r1l1d1H1e1l2o1W1o1r1l1d1H1e1l2o1W1o1r1l1d1H1e1l2o1W1o1r1l1d1H1e1l2o1W1o1r1l1d1H1e1l2o1W1o1r1l1d1H1e1l2o1W1o1r1l1d1H1e1l2o1W1o1r1l1d1H1e1l2o1W1o1r1l1d1H1e1l2o1W1o1r1l1d1H1e1l2o1W1o1r1l1d1H1e1l2o1W1o1r1l1d1H1e1l2o1W1o1r1l1d1H1e1l2o1W1o1r1l1d1H1e1l2o1W1o1r1l1d1H1e1l2o1W1o1r1l1d1H1e1l2o1W1o1r1l1d1H1e1l2o1W1o1r1l1d1H1e1l2o1W1o1r1l1d1H1e1l2o1W1o1r1l1d1H1e1l2o1W1o1r1l1d1H1e1l2o1W1o1r1l1d1H1e1l2o1W1o1r1l1d1H1e1l2o1W1o1r1l1d1H1e1l2o1W1o1r1l1d1H1e1l2o1W1o1r1l1d1H1e1l2o1W1o1r1l1d1H1e1l2o1W1o1r1l1d1H1e1l2o1W1o1r1l1d1H1e1l2o1W1o1r1l1d1H1e1l2o1W1o1r1l1d1H1e1l2o1W1o1r1l1d1H1e1l2o1W1o1r1l1d1\n",
            "serial time: 176.068ms\n",
            "speedup: 0.933283\n",
            "efficiency: 0.11666\n"
          ],
          "name": "stdout"
        }
      ]
    },
    {
      "cell_type": "code",
      "metadata": {
        "id": "cyAVUIoJQUy4"
      },
      "source": [
        ""
      ],
      "execution_count": null,
      "outputs": []
    }
  ]
}