{
  "nbformat": 4,
  "nbformat_minor": 0,
  "metadata": {
    "colab": {
      "name": "LP1-A4-BFS.ipynb",
      "provenance": []
    },
    "kernelspec": {
      "name": "python3",
      "display_name": "Python 3"
    }
  },
  "cells": [
    {
      "cell_type": "code",
      "metadata": {
        "id": "PWQkrbHg_5A3",
        "colab_type": "code",
        "colab": {}
      },
      "source": [
        "code = \"\"\"\n",
        "#include<iostream>\n",
        "#include<omp.h>\n",
        "\n",
        "using namespace std;\n",
        "int q[100];\n",
        "int visited[7];\n",
        "int local_q;\n",
        "\n",
        "void bfs(int adj_matrix[7][7], int first, int last, int q[], int n_nodes) {\n",
        "    if(first==last)\n",
        "      return;\n",
        "    \n",
        "    int cur_node = q[first++];\n",
        "    cout<<\"  \"<<cur_node;\n",
        "    \n",
        "    omp_set_num_threads(3);\n",
        "    \n",
        "    #pragma omp parallel for shared(visited)\n",
        "    for(int i=0; i<n_nodes; i++) {\n",
        "        if(adj_matrix[cur_node][i] == 1 && visited[i] == 0){\n",
        "            q[last++] = i;\n",
        "            visited[i] = 1;\n",
        "        }\n",
        "    }\n",
        "    \n",
        "    bfs(adj_matrix, first, last, q, n_nodes);\n",
        "}\n",
        "\n",
        "int main() {\n",
        "    int first = -1;\n",
        "    int last = 0;\n",
        "    int n_nodes = 7;\n",
        "    \n",
        "    for(int i=0; i<n_nodes; i++) {\n",
        "        visited[i] = 0;\n",
        "    }\n",
        "    \n",
        "    int adj_matrix[7][7] = {\n",
        "      {0, 1, 1, 0, 0, 0, 0},\n",
        "      {1, 0, 1, 1, 0, 0, 0},\n",
        "      {1, 1, 0, 0, 1, 0, 0},\n",
        "      {0, 1, 0, 0, 1, 0, 0},\n",
        "      {0, 0, 1, 1, 0, 1, 0},\n",
        "      {0, 0, 0, 0, 1, 0, 1},\n",
        "      {0, 0, 0, 0, 0, 1, 0}\n",
        "    };\n",
        "    \n",
        "    int start_node = 3;\n",
        "    q[last++] = start_node;\n",
        "    first++;\n",
        "    visited[start_node] = 1;\n",
        " \n",
        "    bfs(adj_matrix, first, last, q, n_nodes);\n",
        "    \n",
        "    return 0;\n",
        "    \n",
        "}\n",
        "\"\"\""
      ],
      "execution_count": 1,
      "outputs": []
    },
    {
      "cell_type": "code",
      "metadata": {
        "id": "uwOtwC4PAGRB",
        "colab_type": "code",
        "colab": {}
      },
      "source": [
        "file_ = open(\"bfs.cpp\", \"w\")\n",
        "file_.write(code)\n",
        "file_.close()"
      ],
      "execution_count": 2,
      "outputs": []
    },
    {
      "cell_type": "code",
      "metadata": {
        "id": "sMvlPR0pAOdb",
        "colab_type": "code",
        "colab": {}
      },
      "source": [
        "!g++ -fopenmp bfs.cpp"
      ],
      "execution_count": 3,
      "outputs": []
    },
    {
      "cell_type": "code",
      "metadata": {
        "id": "V4BOmNZeAQUa",
        "colab_type": "code",
        "colab": {
          "base_uri": "https://localhost:8080/",
          "height": 35
        },
        "outputId": "5a6959c5-2145-4552-f918-fe8d10c81989"
      },
      "source": [
        "!./a.out\n"
      ],
      "execution_count": 4,
      "outputs": [
        {
          "output_type": "stream",
          "text": [
            "  3  1  4  0  2  5  6"
          ],
          "name": "stdout"
        }
      ]
    },
    {
      "cell_type": "code",
      "metadata": {
        "id": "tE02DsNHASbs",
        "colab_type": "code",
        "colab": {}
      },
      "source": [
        ""
      ],
      "execution_count": null,
      "outputs": []
    }
  ]
}