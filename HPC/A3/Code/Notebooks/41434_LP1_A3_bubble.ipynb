{
  "nbformat": 4,
  "nbformat_minor": 0,
  "metadata": {
    "colab": {
      "name": "LP1-A3-bubble.ipynb",
      "provenance": []
    },
    "kernelspec": {
      "name": "python3",
      "display_name": "Python 3"
    },
    "accelerator": "GPU"
  },
  "cells": [
    {
      "cell_type": "code",
      "metadata": {
        "id": "wJUnkLxgh42T",
        "colab_type": "code",
        "colab": {}
      },
      "source": [
        "code = \"\"\"\n",
        "#include<omp.h>\n",
        "#include<bits/stdc++.h>\n",
        "using namespace std;\n",
        "\n",
        "void swap(int *num1, int *num2) {\n",
        "    int temp = *num1;\n",
        "    *num1 = *num2;\n",
        "    *num2 = temp;\n",
        "}\n",
        "\n",
        "int main() {\n",
        "    int n = 10;\n",
        "    int a[n];\n",
        "    \n",
        "    omp_set_num_threads(2);\n",
        "    \n",
        "    for(int i=0; i<n; i++) {\n",
        "        a[i] = rand()% 100;\n",
        "    }\n",
        "    \n",
        "    for(int i=0; i<n; i++) \n",
        "        cout<<\"  \"<<a[i];\n",
        "    cout<<endl;\n",
        "    \n",
        "    int i=0, j=0;\n",
        "    int first=0;\n",
        "    double start, end;\n",
        "    \n",
        "    start = omp_get_wtime();\n",
        "    for(i=0; i<n-1; i++) {\n",
        "        first = i%2;\n",
        "        #pragma omp parallel for\n",
        "        for(j=first; j<n-1; j++) {\n",
        "            if(a[j] > a[j+1])\n",
        "              swap(&a[j], &a[j+1]);\n",
        "        }\n",
        "    }\n",
        "    \n",
        "    end = omp_get_wtime();\n",
        "    cout<<\"Result(parallel) : \"<<endl;\n",
        "    for(i=0; i<n; i++)\n",
        "      cout<<\"  \"<<a[i];\n",
        "    cout<<endl;\n",
        "    \n",
        "    cout<<\"Time parallel = \"<<(end-start)<<endl;\n",
        "    \n",
        "    return 0;\n",
        "    \n",
        "}\n",
        "\"\"\""
      ],
      "execution_count": 13,
      "outputs": []
    },
    {
      "cell_type": "code",
      "metadata": {
        "id": "jVNFc8fuia7Z",
        "colab_type": "code",
        "colab": {}
      },
      "source": [
        "bubble_sort = open(\"bubble.cpp\", \"w\")\n",
        "bubble_sort.write(code)\n",
        "bubble_sort.close()\n"
      ],
      "execution_count": 14,
      "outputs": []
    },
    {
      "cell_type": "code",
      "metadata": {
        "id": "WrUwz62HieGo",
        "colab_type": "code",
        "colab": {}
      },
      "source": [
        "!g++ -fopenmp code.cpp\n"
      ],
      "execution_count": 15,
      "outputs": []
    },
    {
      "cell_type": "code",
      "metadata": {
        "id": "GynsR9QIigNp",
        "colab_type": "code",
        "colab": {
          "base_uri": "https://localhost:8080/",
          "height": 87
        },
        "outputId": "6d66bd37-cb56-476a-a9a7-5ef7e53a174c"
      },
      "source": [
        "!./a.out\n"
      ],
      "execution_count": 16,
      "outputs": [
        {
          "output_type": "stream",
          "text": [
            "  83  86  77  15  93  35  86  92  49  21\n",
            "Result(parallel) : \n",
            "  15  21  35  49  77  83  86  86  92  93\n",
            "Time parallel = 9.7198e-05\n"
          ],
          "name": "stdout"
        }
      ]
    },
    {
      "cell_type": "code",
      "metadata": {
        "id": "bb9nEZlW1hfN",
        "colab_type": "code",
        "colab": {}
      },
      "source": [
        ""
      ],
      "execution_count": null,
      "outputs": []
    }
  ]
}